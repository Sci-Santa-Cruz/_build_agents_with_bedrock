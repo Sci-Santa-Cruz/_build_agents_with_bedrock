{
 "cells": [
  {
   "cell_type": "markdown",
   "id": "bca1ae6b-aceb-40b5-b3a9-341c01fc7254",
   "metadata": {},
   "source": [
    "\n",
    "**Agente de Hotel**  \n",
    "Hasta ahora hemos visto cómo crear un agente utilizando la clase `create_react_agent` de LangGraph, lo que nos ha simplificado las cosas. Pero necesitamos la confirmación humana antes de cambiar una reserva de hotel o antes de cancelar una reserva de hotel. Necesitamos que nuestro agente pida confirmación antes de ejecutar estas herramientas. Vamos a crear un agente personalizado que pueda manejar estas situaciones. Crearemos un nodo separado que pueda manejar la cancelación o modificación de la reserva. La ejecución del agente se interrumpirá en este nodo para obtener la confirmación.\n",
    "\n",
    "Por lo tanto, crearemos dos nodos separados: uno para la búsqueda y otro para la cancelación, donde necesitaremos la **aprobación humana**. El siguiente diagrama ilustra esto.\n",
    "\n",
    "---\n",
    "\n",
    "**Configuración del Asistente de Reserva de Hotel**  \n",
    "La clase `HumanApprovalToolNode` es una implementación personalizada para gestionar reservas de hotel. Extiende la funcionalidad de un agente estándar de LangChain al agregar la capacidad de pedir información adicional al usuario cuando sea necesario.\n",
    "\n",
    "La función `hotel_agent` está configurada para invocar el agente, que será de tipo *Return of Control*, lo que le pedirá a la aplicación ejecutar la herramienta. Las herramientas vinculadas a este agente pueden ser nodos de tipo `ToolNode` o nuestro nodo personalizado `HumanApprovalToolNode`, lo que nos permitirá ejecutar este paso con facilidad.\n",
    "\n",
    "Este código configura un asistente de reservas de hotel utilizando los componentes de LangChain. Incluye:\n",
    "\n",
    "- Tenemos dos conjuntos distintos de herramientas configuradas como nodos en el gráfico: 1/ las que necesitan confirmación humana, como cancelar una reserva, y 2/ las que no requieren intervención humana.\n",
    "- La función `hotel_agent` gestiona las interacciones con el modelo de lenguaje. Esto está configurado con el conocimiento completo de todas las herramientas.\n",
    "- Plantilla de mensaje para el asistente principal, centrada en las reservas de hotel.\n",
    "- Conjunto de herramientas relacionadas con hoteles para tareas como sugerir hoteles y gestionar reservas.\n",
    "- Objeto ejecutable que combina la plantilla, el modelo de lenguaje y las herramientas.\n",
    "  \n",
    "El asistente puede manejar consultas sobre hoteles, hacer sugerencias y realizar operaciones de reserva. También tiene la capacidad de pedir información adicional cuando sea necesario.\n",
    "\n"
   ]
  },
  {
   "cell_type": "code",
   "execution_count": null,
   "id": "a89be6b8-b6d1-4007-b6ad-fa483bb7b499",
   "metadata": {},
   "outputs": [],
   "source": []
  }
 ],
 "metadata": {
  "kernelspec": {
   "display_name": "conda_tensorflow2_p310",
   "language": "python",
   "name": "conda_tensorflow2_p310"
  },
  "language_info": {
   "codemirror_mode": {
    "name": "ipython",
    "version": 3
   },
   "file_extension": ".py",
   "mimetype": "text/x-python",
   "name": "python",
   "nbconvert_exporter": "python",
   "pygments_lexer": "ipython3",
   "version": "3.10.17"
  }
 },
 "nbformat": 4,
 "nbformat_minor": 5
}
