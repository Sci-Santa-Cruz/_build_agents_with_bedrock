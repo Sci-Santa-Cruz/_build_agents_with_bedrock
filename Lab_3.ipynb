{
 "cells": [
  {
   "cell_type": "markdown",
   "id": "773c9164-a214-49f3-9957-3dd7ac1973fc",
   "metadata": {},
   "source": [
    "\n",
    "\n",
    "#  Lab 3: Encuentra tu Destino Soñado  \n",
    "## Construyendo un Planificador de Viajes con LangGraph usando herramientas\n",
    "\n",
    "---\n",
    "\n",
    "##  ¿De qué trata este laboratorio?\n",
    "\n",
    "En este lab vamos a crear un **agente inteligente** que te ayuda a encontrar **el mejor lugar para tus próximas vacaciones**.  \n",
    "Pero no será un simple chatbot: vamos a enseñarle a **buscar información real** y **usar herramientas** para mejorar sus respuestas.  \n",
    "Aquí aprenderás a conectar modelos de lenguaje con herramientas externas usando LangGraph.\n",
    "\n",
    "---\n",
    "\n",
    "##  ¿Qué hará el agente?\n",
    "\n",
    "- Podrás chatear con él como si fuera tu asesor de viajes.\n",
    "- Le pedirás recomendaciones y, **basado en tu perfil** o en **datos históricos de otros viajeros**, te sugerirá lugares.\n",
    "- Además, buscará **información adicional** sobre esos destinos para que tengas más detalles.\n",
    "\n",
    "---\n",
    "\n",
    "##  ¿Qué cosas técnicas vamos a practicar?\n",
    "\n",
    "- **Crear agentes personalizados** usando LangGraph.\n",
    "- **Conectar** esos agentes a **bases de datos vectoriales** para encontrar información parecida (lo que se llama **RAG: Retrieval Augmented Generation**).\n",
    "- **Configurar tipos de agentes**: unos que planean solitos y otros que piden permiso antes de actuar (**Human-In-The-Loop**).\n",
    "- Entender cómo trabajan distintos **tipos de agentes**, como:\n",
    "  - Agentes que **planean sin necesidad de ver resultados** (ReWOO)\n",
    "  - Agentes que **razonan y actúan paso a paso** (ReACT)\n",
    "\n",
    "---\n",
    "\n",
    "##  ¿Cómo será la interacción?\n",
    "\n",
    "Imagina que escribes:  \n",
    "_\"Quiero un destino tranquilo, playa, poca gente...\"_\n",
    "\n",
    "1. El agente **busca en el historial de viajes** de otros usuarios que pidieron cosas similares.\n",
    "2. Te recomienda un lugar (por ejemplo, alguna playa escondida en Costa Rica 🏖️).\n",
    "3. Luego, **busca más detalles** sobre ese lugar para que tengas información como clima, mejores fechas para viajar, etc.\n",
    "\n",
    "Y si configuramos modo \"Human-in-the-loop\", antes de hacer algo importante te preguntará:  \n",
    "_\"¿Quieres que busque más información sobre este lugar?\"_\n"
   ]
  },
  {
   "cell_type": "markdown",
   "id": "1f16c384-4302-4e88-8aa6-878df4e394db",
   "metadata": {},
   "source": [
    "<img src=\"images/descarga_l3_1.png\" width=\"1000\" height=\"600\">\n"
   ]
  },
  {
   "cell_type": "markdown",
   "id": "d04dc437-40cc-4f36-9a9c-98764586c163",
   "metadata": {},
   "source": [
    "\n",
    "\n",
    "#  Agentes\n",
    "\n",
    "Un **agente de IA** es un programa o sistema que **percibe su entorno, toma decisiones y ejecuta acciones** para alcanzar ciertos objetivos, usando técnicas de inteligencia artificial.  \n",
    "Están diseñados para trabajar **de manera autónoma** y **adaptarse** con base en la información y experiencias que reciben.  \n",
    "No se limitan a interacciones simples: pueden tomar decisiones complejas, resolver problemas y completar tareas, **con o sin intervención humana**.\n",
    "\n",
    "### Características principales:\n",
    "- **Percepción:** Captan información del entorno (sensores, datos, etc.).\n",
    "- **Toma de decisiones:** Procesan datos y eligen la mejor acción.\n",
    "- **Acción:** Ejecutan decisiones e interactúan con el entorno o usuarios.\n",
    "- **Aprendizaje:** Mejoran su desempeño con experiencia y retroalimentación.\n",
    "- **Autonomía:** Funcionan de manera independiente en muchos casos.\n",
    "- **Orientación a objetivos:** Siempre trabajan buscando cumplir metas específicas.\n",
    "\n",
    "---\n",
    "\n",
    "# Relación con los LLMs\n",
    "\n",
    "Los **Modelos de Lenguaje** (LLMs) son excelentes resolviendo problemas de clasificación, lo que ha hecho posible **crear agentes de IA** verdaderamente útiles.\n",
    "\n",
    "En este caso, **creamos un cliente de Bedrock** que nos permite **configurar y utilizar un LLM** en LangChain, específicamente sobre AWS Bedrock.\n"
   ]
  },
  {
   "cell_type": "markdown",
   "id": "41832d91-5c82-4c48-b81d-7fb2d1b0d046",
   "metadata": {},
   "source": [
    "# Setup\n",
    "\n",
    "Antes de empezar, instala las dependencias:\n",
    "\n",
    "- Si solo necesitas paquetes de Python:\n",
    "  \n",
    "  ```bash\n",
    "  pip install -r requirements.txt\n",
    "  ```\n",
    "\n",
    "- Si también necesitas preparar el sistema:\n",
    "\n",
    "  ```bash\n",
    "  bash provisionar.sh\n",
    "  ```\n",
    "\n",
    "Este script instala herramientas del sistema y después los paquetes de Python.\n"
   ]
  },
  {
   "cell_type": "markdown",
   "id": "126caeb3-10ef-45e3-b2d8-9148824599de",
   "metadata": {},
   "source": [
    "\n",
    "#  Modelo de Lenguaje\n",
    "\n",
    "El **modelo de lenguaje** (LLM) que usaremos en este laboratorio para todos nuestros agentes será **Claude 3 Sonnet** a través de **Amazon Bedrock**.  \n",
    "Para facilitar su uso, emplearemos la clase **`ChatBedrockConverse`** de **LangChain**, que es un **wrapper** (envoltorio) que simplifica la interacción con la API **Converse** de Bedrock.\n"
   ]
  },
  {
   "cell_type": "code",
   "execution_count": 1,
   "id": "a98b85df-1885-44ed-b5f5-50c7712558e7",
   "metadata": {},
   "outputs": [],
   "source": [
    "from langchain_aws import ChatBedrockConverse\n",
    "import boto3\n",
    "from langgraph.checkpoint.memory import MemorySaver\n",
    "from langchain_core.runnables.config import RunnableConfig\n",
    "from langchain_core.chat_history import InMemoryChatMessageHistory\n",
    "from langchain_core.output_parsers import StrOutputParser\n",
    "from langchain_core.prompts import ChatPromptTemplate\n",
    "from langchain_core.runnables.history import RunnableWithMessageHistory\n",
    "from langchain_core.prompts import ChatPromptTemplate, MessagesPlaceholder\n",
    "\n",
    "# ---- ⚠️ Actualiza la región para tu configuración de AWS ⚠️ ----\n",
    "region = 'us-east-2'\n",
    "\n",
    "bedrock = boto3.client(\n",
    "    service_name='bedrock-runtime',\n",
    "    region_name=region,\n",
    ")\n",
    "\n",
    "bedrock_client = boto3.client(\"bedrock-runtime\", region_name=region)\n",
    "\n",
    "model_id = \"us.anthropic.claude-3-5-haiku-20241022-v1:0\"\n",
    "\n",
    "llm = ChatBedrockConverse(\n",
    "    model=model_id,\n",
    "    temperature=0,\n",
    "    max_tokens=5000,\n",
    "    client=bedrock_client,\n",
    ")"
   ]
  },
  {
   "cell_type": "markdown",
   "id": "e09c95b4-cddb-4780-b7b0-f5776a8566a9",
   "metadata": {},
   "source": [
    "\n",
    "\n",
    "## Construcción de nuestro primer agente de recomendaciones de viaje\n",
    "\n",
    "### Herramientas\n",
    "\n",
    "Vamos a crear herramientas que nuestros agentes usarán para encontrar un destino de vacaciones basado en el perfil del usuario y en el historial de viaje de usuarios similares.\n",
    "\n",
    "Las herramientas son recursos externos, servicios o APIs que un agente LLM puede acceder y utilizar para ampliar sus capacidades y realizar tareas específicas. Estas herramientas permiten que el agente vaya más allá del simple procesamiento de lenguaje, logrando interactuar con sistemas externos, recuperar información o ejecutar acciones que normalmente estarían fuera de su alcance. Gracias a esto, los agentes LLM pueden ofrecer soluciones mucho más completas y prácticas a las solicitudes de los usuarios.\n",
    "\n",
    "Una herramienta está compuesta por:\n",
    "\n",
    "- El nombre de la herramienta.\n",
    "- Una descripción de lo que hace.\n",
    "- Un esquema JSON que define los datos de entrada.\n",
    "- Una función (y opcionalmente su versión asíncrona).\n",
    "\n",
    "En LangGraph, las herramientas se crean decorando funciones con `@tool`. Este decorador toma el nombre de la función, sus docstrings y sus parámetros de entrada, y los convierte automáticamente en un nombre, una descripción y una definición de interfaz que el modelo puede entender. Una vez que las herramientas están disponibles para el modelo, este puede decidir cómo y cuándo invocarlas, dependiendo de las instrucciones y necesidades.\n",
    "\n",
    "### Nuestro primer caso\n",
    "\n",
    "Vamos a construir una herramienta que utilice datos históricos de viajes de diferentes usuarios para encontrar un destino adecuado basándose en el perfil de cada usuario y en el historial de personas similares.\n",
    "\n",
    "Esta herramienta leerá un archivo CSV local que contiene información histórica de destinos de viaje. Analizará esos datos y devolverá el destino más popular para ese usuario.\n",
    "\n",
    "### Datasets\n",
    "\n",
    "Usaremos dos conjuntos de datos:\n",
    "\n",
    "1. Un primer dataset con columnas clave como: Id, Localización actual, Destinos de viaje pasados, Número de viajes, Ciudad de llegada, entre otras. Estos datos se integrarán en el sistema RAG para ayudar a identificar destinos similares.\n",
    "   \n",
    "2. Un segundo dataset con detalles de ciudades, incluyendo lugares turísticos populares. Usaremos este conjunto para encontrar destinos similares a través de búsquedas semánticas apoyadas en un vector store.\n",
    "\n",
    "Primero encontraremos las ciudades posibles donde el usuario podría viajar, y luego buscaremos otros destinos similares utilizando la tecnología de búsqueda vectorial.\n",
    "\n",
    "Ahora vamos a crear nuestra primera herramienta.\n"
   ]
  },
  {
   "cell_type": "code",
   "execution_count": 2,
   "id": "7cccbaf8-deed-469e-a517-1f759b485130",
   "metadata": {},
   "outputs": [],
   "source": [
    "import pandas as pd\n",
    "from collections import Counter\n",
    "from langchain_core.tools import tool\n",
    "from langchain_core.runnables.config import RunnableConfig\n",
    "\n",
    "def read_travel_data(file_path: str = \"data/synthetic_travel_data.csv\") -> pd.DataFrame:\n",
    "    \"\"\"Leer datos de viajes desde un archivo CSV.\"\"\"\n",
    "    try:\n",
    "        df = pd.read_csv(file_path)\n",
    "        return df\n",
    "    except FileNotFoundError:\n",
    "        # Si no se encuentra el archivo, retorna un DataFrame vacío con columnas predefinidas\n",
    "        return pd.DataFrame(\n",
    "            columns=[\"Id\", \"Name\", \"Current_Location\", \"Age\", \"Past_Travel_Destinations\",\n",
    "                     \"Number_of_Trips\", \"Flight_Number\", \"Departure_City\", \"Arrival_City\", \"Flight_Date\"]\n",
    "        )\n",
    "\n",
    "@tool\n",
    "def compare_and_recommend_destination(config: RunnableConfig) -> str:\n",
    "    \"\"\"Esta herramienta se utiliza para verificar a qué destinos ha viajado el usuario.\n",
    "    Esta herramienta ya recibe el user_id. Usa el ID de usuario para buscar su información.\n",
    "    Si el usuario ya ha visitado una ciudad, no se debe recomendar de nuevo esa ciudad.\n",
    "\n",
    "    Retorna:\n",
    "        str: Destino recomendado.\n",
    "    \"\"\"\n",
    "\n",
    "    # Leer el dataset de viajes\n",
    "    df = read_travel_data()\n",
    "\n",
    "    # Obtener el user_id desde la configuración\n",
    "    user_id = config.get(\"configurable\", {}).get(\"user_id\")\n",
    "\n",
    "    # Verificar si el usuario existe en el dataset\n",
    "    if user_id not in df[\"Id\"].values:\n",
    "        return \"Usuario no encontrado en la base de datos de viajes.\"\n",
    "\n",
    "    # Extraer la información del usuario\n",
    "    user_data = df[df[\"Id\"] == user_id].iloc[0]\n",
    "    current_location = user_data[\"Current_Location\"]\n",
    "    age = user_data[\"Age\"]\n",
    "    past_destinations = user_data[\"Past_Travel_Destinations\"].split(\", \")\n",
    "\n",
    "    # Buscar usuarios similares (misma ubicación actual y edad aproximada ±5 años)\n",
    "    similar_users = df[\n",
    "        (df[\"Current_Location\"] == current_location) &\n",
    "        (df[\"Age\"].between(age - 5, age + 5))\n",
    "    ]\n",
    "\n",
    "    # Obtener todos los destinos pasados de usuarios similares\n",
    "    all_destinations = [\n",
    "        dest\n",
    "        for user_dests in similar_users[\"Past_Travel_Destinations\"].str.split(\", \")\n",
    "        for dest in user_dests\n",
    "    ]\n",
    "\n",
    "    # Contar cuántas veces aparece cada destino\n",
    "    destination_counts = Counter(all_destinations)\n",
    "\n",
    "    # Eliminar de las recomendaciones la ubicación actual y los destinos ya visitados\n",
    "    for dest in [current_location] + past_destinations:\n",
    "        if dest in destination_counts:\n",
    "            del destination_counts[dest]\n",
    "\n",
    "    # Si no hay nuevos destinos para recomendar\n",
    "    if not destination_counts:\n",
    "        return f\"No se encontraron nuevas recomendaciones para usuarios en {current_location} con edad similar.\"\n",
    "\n",
    "    # Seleccionar el destino más popular\n",
    "    recommended_destination = destination_counts.most_common(1)[0][0]\n",
    "\n",
    "    return (f\"Basado en tu ubicación actual ({current_location}), edad ({age}) \"\n",
    "            f\"y tu historial de viajes, te recomendamos visitar {recommended_destination}.\")\n"
   ]
  },
  {
   "cell_type": "markdown",
   "id": "b3021c64-54e1-4cd3-96e5-8bfffada919d",
   "metadata": {},
   "source": [
    "\n",
    "La segunda herramienta que queremos agregar a nuestro agente de recomendación de viajes es una **herramienta de recuperación de información**. Esta herramienta permitirá que el agente acceda a datos externos y los utilice para enriquecer su base de conocimientos. Gracias a esto, el agente podrá ofrecer recomendaciones más precisas y detalladas.\n",
    "\n",
    "Contamos con un conjunto de datos sintéticos que contiene información sobre algunas ciudades del mundo. Utilizaremos estos datos para poblar nuestra base de conocimiento con información adicional acerca de cada ciudad.\n",
    "\n",
    "En esta sección prepararemos nuestro sistema de recuperación (**retriever**):\n",
    "\n",
    "- Vamos a utilizar archivos `pickle` que ya están preparados y contienen una **vector store**.\n",
    "- La **vector store** es una base de datos que almacena representaciones numéricas (vectores) de la información, lo que permite hacer búsquedas semánticas rápidas y eficientes.\n",
    "- El proceso de carga y uso de esta vector store es similar al esquema que se muestra a continuación (no incluido aquí, pero se refiere a cargar los vectores, realizar búsquedas y devolver los resultados relevantes).\n",
    "\n",
    "Esta herramienta hará posible que nuestro agente busque ciudades similares o actividades relacionadas basándose en el contexto del usuario.\n"
   ]
  },
  {
   "cell_type": "markdown",
   "id": "9eb57dad-95ed-446b-a725-18cf15f056aa",
   "metadata": {},
   "source": [
    "<img src=\"images/RAG-travellers.png\" width=\"1000\" height=\"600\">\n"
   ]
  },
  {
   "cell_type": "code",
   "execution_count": 3,
   "id": "722b3de4-e6dd-487b-992e-79e2c93c8ec5",
   "metadata": {},
   "outputs": [],
   "source": [
    "# Importación de bibliotecas necesarias para trabajar con embeddings, vector stores y recuperación de documentos\n",
    "from langchain_aws.embeddings.bedrock import BedrockEmbeddings  # Embeddings de Bedrock de AWS\n",
    "from langchain.retrievers import ParentDocumentRetriever  # Recuperador de documentos relacionados\n",
    "from langchain.text_splitter import RecursiveCharacterTextSplitter  # Divisor de texto para separar en fragmentos pequeños\n",
    "from langchain_community.vectorstores.faiss import FAISS\n",
    "from io import BytesIO  # Para manejar datos binarios en memoria\n",
    "import pickle  # Para cargar objetos serializados\n",
    "\n",
    "# Modelo de embeddings que utiliza Bedrock para obtener representaciones vectoriales de texto\n",
    "embeddings_model = BedrockEmbeddings(\n",
    "    client=bedrock_client, model_id=\"amazon.titan-embed-text-v1\"  # Cliente de Bedrock y modelo de embeddings\n",
    ")\n",
    "\n",
    "# Definición de un divisor de texto que divide el texto en fragmentos, considerando ciertos delimitadores y tamaños\n",
    "child_splitter = RecursiveCharacterTextSplitter(\n",
    "    separators=[\"\\n\", \"\\n\\n\"],  # Delimitadores para dividir el texto (salto de línea simple y doble)\n",
    "    chunk_size=2000,  # Tamaño máximo de cada fragmento de texto\n",
    "    chunk_overlap=250  # Superposición entre fragmentos consecutivos\n",
    ")\n",
    "\n",
    "# Archivos que contienen el store en memoria y el vector store (almacenamiento de vectores)\n",
    "in_memory_store_file = \"data/section_doc_store.pkl\"  # Archivo que contiene el store de documentos\n",
    "vector_store_file = \"data/section_vector_store.pkl\"  # Archivo que contiene el vector store\n",
    "\n",
    "# Carga del store en memoria desde el archivo\n",
    "store = pickle.load(open(in_memory_store_file, \"rb\"))\n",
    "\n",
    "# Carga del vector store desde el archivo y deserialización de los datos\n",
    "vector_db_buff = BytesIO(pickle.load(open(vector_store_file, \"rb\")))\n",
    "\n"
   ]
  },
  {
   "cell_type": "code",
   "execution_count": 4,
   "id": "bfaa172d-d521-440d-8e92-c8a3f9e7e091",
   "metadata": {},
   "outputs": [],
   "source": [
    "\n",
    "\n",
    "vector_db = FAISS.deserialize_from_bytes(\n",
    "    serialized=vector_db_buff.read(),  # Datos serializados que representan el vector store\n",
    "    embeddings=embeddings_model,  # Modelo de embeddings utilizado para deserializar\n",
    "    allow_dangerous_deserialization=True,  # Permite deserializar de forma peligrosa si es necesario\n",
    ")\n",
    "\n",
    "# Definición de un recuperador de documentos principales (parent documents) que utiliza el vector store y el store de documentos\n",
    "retriever = ParentDocumentRetriever(\n",
    "    vectorstore=vector_db,  # Vector store utilizado para la búsqueda de documentos\n",
    "    docstore=store,  # Store de documentos donde se almacenan los datos\n",
    "    child_splitter=child_splitter,  # Divisor de texto utilizado para fragmentar los documentos\n",
    ")\n"
   ]
  },
  {
   "cell_type": "code",
   "execution_count": null,
   "id": "b589a41b-dc0c-4d06-a221-f00e0df4d912",
   "metadata": {},
   "outputs": [],
   "source": []
  },
  {
   "cell_type": "markdown",
   "id": "7e5ea57e-32c3-492a-8d39-8de81c0c9669",
   "metadata": {},
   "source": [
    "¿ Que hace esté código ?\n",
    "Definición: \n",
    "Un **VectorStore** es una estructura que guarda representaciones numéricas (vectores) de textos, generadas por un modelo de embeddings, para poder hacer búsquedas por similitud (por ejemplo, encontrar qué textos se parecen a una pregunta del usuario). Por otro lado, un **DocStore** guarda los documentos originales completos, como si fuera una biblioteca, y se usa para recuperar el contenido real cuando ya sabes qué parte es relevante según la búsqueda en el VectorStore. En resumen: el VectorStore te dice *qué* documento es relevante, y el DocStore te da el *contenido completo* de ese documento.\n",
    "\n",
    "Dado lo anterior el código hace lo siguiente:\n",
    "\n",
    "1. **Crea un modelo de embeddings con Bedrock** (Amazon Titan) para convertir texto en vectores, que luego servirán para buscar por similitud.\n",
    "2. **Define cómo partir el texto en fragmentos** usando saltos de línea como separadores, con fragmentos de hasta 2000 caracteres y con 250 de solapamiento.\n",
    "3. **Carga desde disco dos archivos:** uno con los documentos originales (`DocStore`) y otro con sus representaciones vectoriales (`VectorStore`), ambos previamente guardados.\n",
    "4. **Deserializa el VectorStore** usando el modelo de embeddings, para dejarlo listo para hacer búsquedas por similitud semántica.\n",
    "5. **Crea un \"retriever\"**, que es el componente que, cuando recibe una consulta, busca en el `VectorStore` qué fragmentos son relevantes y luego va al `DocStore` para traer los documentos completos relacionados."
   ]
  },
  {
   "cell_type": "markdown",
   "id": "130bbf59-f5c3-4bfc-986b-bff5c44dda92",
   "metadata": {},
   "source": [
    "\n",
    "\n",
    "Ahora creamos una herramienta especializada de recuperación utilizando la función `create_retriever_tool` de LangChain:\n",
    "\n",
    "- La herramienta se basa en el *retriever* que configuramos previamente.  \n",
    "- La nombramos **\"search_user_interest\"**.  \n",
    "- Su descripción indica que realiza búsquedas en múltiples documentos PDF que contienen información sobre distintas ciudades.  \n",
    "- Está diseñada para encontrar datos que coincidan con los intereses del usuario en relación a diversas ciudades.  \n",
    "- La búsqueda se limita únicamente a las palabras clave mencionadas en la entrada del usuario.\n",
    "\n"
   ]
  },
  {
   "cell_type": "markdown",
   "id": "4496f2b6-4ce3-42ec-bc20-d9c0d63fb233",
   "metadata": {},
   "source": [
    "\n",
    "\n"
   ]
  },
  {
   "cell_type": "code",
   "execution_count": 5,
   "id": "6e47b899-2a9a-417d-aef2-c33a951ca636",
   "metadata": {},
   "outputs": [],
   "source": [
    "from langchain.tools.retriever import create_retriever_tool  # Importa la función para crear una herramienta de recuperación\n",
    "\n",
    "# Crea una herramienta de búsqueda semántica usando un retriever ya definido\n",
    "\n",
    "description = \"\"\"\n",
    " Searches through multiple PDF documents containing city details to find information matching \n",
    "    the user's interests in various cities. Only search based on the keyword mentioned in user input.\n",
    "\"\"\"\n",
    "\n",
    "retriever_tool = create_retriever_tool(\n",
    "    retriever,                         # Objeto que realiza la búsqueda en documentos vectorizados\n",
    "    \"search_user_interest\",           # Nombre identificador de la herramienta\n",
    "     description # Descripción funcional\n",
    ")\n"
   ]
  },
  {
   "cell_type": "code",
   "execution_count": 6,
   "id": "bf217ffd-1421-4ba7-9e67-51ae5c24bd5a",
   "metadata": {},
   "outputs": [],
   "source": [
    "tools = [compare_and_recommend_destination, retriever_tool]\n"
   ]
  },
  {
   "cell_type": "markdown",
   "id": "5505c6da-47ab-44ea-9a44-9c3989e68a79",
   "metadata": {},
   "source": [
    "### 🔍 ¿Qué hace este código?\n",
    "\n",
    "Este código crea una **herramienta de recuperación de información semántica** basada en un `retriever` de LangChain. Esta herramienta permite buscar texto relacionado con una consulta (por ejemplo, del usuario) dentro de documentos previamente indexados, como PDFs sobre ciudades. Esta herramienta se puede usar en un agente o sistema conversacional para responder preguntas automáticamente usando ese conocimiento.\n",
    "\n",
    "---\n",
    "\n",
    "### ⚙️ ¿Qué es `create_retriever_tool`?\n",
    "\n",
    "`create_retriever_tool` es una función de `langchain.tools.retriever` que **convierte un retriever en una herramienta LangChain-compatible**, es decir, algo que un agente puede usar automáticamente para responder preguntas basándose en documentos vectorizados.\n",
    "\n",
    "---\n",
    "\n",
    "### 📥 Parámetros que recibe:\n",
    "\n",
    "```python\n",
    "create_retriever_tool(\n",
    "    retriever,                # (obligatorio) Objeto que implementa el método `.get_relevant_documents(query)`\n",
    "    \"search_user_interest\",   # (obligatorio) Nombre único de la herramienta, usado por el agente\n",
    "    \"Descripción funcional\"   # (obligatorio) Explicación de qué hace la herramienta para ayudar a LLM a decidir cuándo usarla\n",
    ")\n",
    "```\n"
   ]
  },
  {
   "cell_type": "markdown",
   "id": "47620981-1396-43e4-9787-e42a0a58cd57",
   "metadata": {},
   "source": [
    "Ahora también agregamos ambas herramientas a la lista de herramientas que nuestro agente podrá usar.\n",
    "\n",
    "\n",
    "\n",
    "\n",
    "\n",
    "\n",
    "\n",
    "\n"
   ]
  },
  {
   "cell_type": "markdown",
   "id": "6706464c-6373-4091-970e-83559c76c481",
   "metadata": {},
   "source": [
    "**Tipos de Agentes**  \n",
    "Los agentes se componen de dos elementos principales: los *Planificadores*, que crean un plan detallado para la ejecución de tareas, y los *Solucionadores*, que ejecutan los pasos planificados e integran los resultados de las tareas ejecutadas para formular una respuesta final. Estos dos componentes trabajan en conjunto para llevar a cabo una tarea específica. Esto implica lo siguiente:\n",
    "\n",
    "De manera general, existen dos tipos de agentes:\n",
    "\n",
    "- **Agentes ReWoO / ROC**: Son agentes que conocen las herramientas disponibles, pero devuelven el control al usuario. La técnica *ReWoO* optimiza el rendimiento generando un plan completo de tareas desde el inicio y ejecutándolo sin verificar los resultados intermedios, como se muestra en las figuras a continuación. Esta estrategia reduce la latencia total al minimizar las llamadas al modelo. Es especialmente útil para ejecuciones asíncronas, confirmaciones, intervenciones humanas, entre otros. En este enfoque, el agente devuelve todo el plan de ejecución a la aplicación que lo invocó, por ejemplo: \"invoca esta herramienta, seguida de esta otra\", etc. Sin embargo, esto requiere un *prompt* muy complejo. Además, si los resultados intermedios debieran modificar el orden de los pasos, esta estrategia no lo contempla y puede fallar.\n",
    "\n",
    "- **Agentes ReACT**: Son agentes que reaccionan al estímulo recibido, como puede ser una respuesta de una herramienta, una entrada del usuario, una respuesta del modelo, una invocación de herramienta, entre otros. La estrategia *ReACT* por defecto requiere al menos N+1 llamadas al modelo para ejecutar N pasos. Sin embargo, es más fácil de implementar y ofrece flexibilidad mediante la selección dinámica de herramientas en función de la respuesta previa. Para la mayoría de los casos de uso, esta será la estrategia predeterminada."
   ]
  },
  {
   "cell_type": "markdown",
   "id": "12ccc7ed-1438-4c37-a0e3-14028b4ea47d",
   "metadata": {},
   "source": [
    "<img src=\"images/ReACT_agents.png\" width=\"300\" height=\"600\">\n",
    "\n",
    "<img src=\"images/ReWoO_agents.png\" width=\"300\" height=\"600\">\n"
   ]
  },
  {
   "cell_type": "markdown",
   "id": "b3de3358-54e3-4c2d-854e-4379d99e5f90",
   "metadata": {},
   "source": [
    "Steps in a ReACT agents"
   ]
  },
  {
   "cell_type": "markdown",
   "id": "604e03df-942f-4f49-ac18-ca6bf2d4119c",
   "metadata": {},
   "source": [
    "<img src=\"images/agent_action_thought.png\" width=\"400\" height=\"600\">\n"
   ]
  },
  {
   "cell_type": "markdown",
   "id": "9fc4580f-39ea-4784-9063-f065bc76d3c4",
   "metadata": {},
   "source": [
    "Crea un agente ReWoO para encontrar un buen destino  \n",
    "\n",
    "LangGraph ofrece un mecanismo sencillo, llamado `bind_tools`, que permite asociar herramientas a una cadena LCEL (LangChain Expression Language) y crear así agentes que devuelven el control a la aplicación llamadora. En este enfoque, el agente no ejecuta directamente las funciones, sino que indica **qué función se debe llamar y con qué parámetros**. Corresponde entonces a la aplicación que lo invocó **ejecutar la función**, agregar la respuesta al historial del prompt, y **volver a llamar al modelo**.\n",
    "\n",
    "Este tipo de agente es especialmente útil en flujos **asíncronos (A-Sync)** o cuando se requiere un **humano en el ciclo de decisión (Human-in-the-loop)**.\n",
    "\n",
    "En flujos con múltiples pasos donde hay que invocar varias herramientas —como en este caso— puede ser muy costoso (en complejidad y control) mantener un bucle de ejecución manual hasta que el modelo devuelva una señal de parada como respuesta final."
   ]
  },
  {
   "cell_type": "code",
   "execution_count": 8,
   "id": "551ccdf9-6f85-425e-93da-4126e9e45b45",
   "metadata": {},
   "outputs": [
    {
     "name": "stdout",
     "output_type": "stream",
     "text": [
      "<class 'langchain_core.runnables.base.RunnableBinding'>\n"
     ]
    },
    {
     "data": {
      "image/png": "[encoded data removed]",
      "text/plain": [
       "<IPython.core.display.Image object>"
      ]
     },
     "metadata": {},
     "output_type": "display_data"
    }
   ],
   "source": [
    "from IPython.display import Image, display\n",
    "\n",
    "rewoo_agent = llm.bind_tools(tools)\n",
    "print(type(rewoo_agent))\n",
    "display(Image(rewoo_agent.get_graph().draw_mermaid_png()))"
   ]
  },
  {
   "cell_type": "code",
   "execution_count": 9,
   "id": "4d223fd1-9e79-4065-8261-b935937a0f6d",
   "metadata": {},
   "outputs": [
    {
     "name": "stdout",
     "output_type": "stream",
     "text": [
      "El LLM respondió con una llamada a la herramienta: compare_and_recommend_destination() :: parámetros = {}\n"
     ]
    }
   ],
   "source": [
    "from langchain_core.messages import HumanMessage\n",
    "\n",
    "# Configuración que incluye el ID del usuario que está interactuando con el agente\n",
    "config = {\"configurable\": {\"user_id\": 918}}\n",
    "\n",
    "# Se envía un mensaje al agente ReWoO solicitando una recomendación de destino vacacional\n",
    "response_rewo = rewoo_agent.invoke(\n",
    "    [HumanMessage(content=\"Sugiéreme un buen destino para vacacionar.\")],\n",
    "    config\n",
    ")\n",
    "\n",
    "\n",
    "# Se recorren los mensajes contenidos en la respuesta\n",
    "for one_message in response_rewo.content:\n",
    "    # Si el mensaje es una instrucción para llamar a una herramienta\n",
    "    if isinstance(one_message, dict) and one_message['type'] == 'tool_use':\n",
    "        print(f\"El LLM respondió con una llamada a la herramienta: {one_message['name']}() :: parámetros = {one_message['input']}\")\n"
   ]
  },
  {
   "cell_type": "markdown",
   "id": "36768750-6b66-476d-b5b9-a91c96a6de6b",
   "metadata": {},
   "source": [
    "Este código representa una ejecución típica de un agente ReWoO. El modelo no ejecuta la herramienta directamente, sino que indica qué herramienta se debe usar y con qué parámetros. Le toca a la aplicación (o a ti como desarrollador) realizar la llamada a esa función, capturar la respuesta, y volver a alimentar al modelo."
   ]
  },
  {
   "cell_type": "markdown",
   "id": "eee99b2d-253c-45b5-9ee6-60d355f96370",
   "metadata": {},
   "source": [
    "**Crear un Agente ReACT**\n",
    "\n",
    "Para cualquier flujo de trabajo que involucre múltiples pasos y múltiples turnos, debemos crear o aprovechar los agentes ReACT. Ahora que hemos definido las herramientas y el LLM, podemos crear el agente. LangGraph viene con APIs preconstruidas de nivel superior para escenarios comunes de agentes. Estas APIs de alto nivel cubren una gran parte del trabajo pesado al construir nuestro *StateGraph* para los casos de uso de agentes. Para el **Enfoque 1**, utilizaremos estas APIs de alto nivel para construir el agente y su *StateGraph*. Luego, para el **Enfoque 2**, utilizaremos APIs de bajo nivel y reconstruiremos lo que la API de alto nivel está haciendo detrás de escena.\n",
    "\n",
    "Comencemos inicializando el agente con el LLM y las herramientas.\n",
    "\n",
    "Aquí estamos aprovechando el **ID de usuario** que se pasa a través de la configuración para sugerir destinos similares basados en el historial de viajes. Este diagrama explica la llamada:\n"
   ]
  },
  {
   "cell_type": "code",
   "execution_count": 35,
   "id": "d1f32349-22eb-4135-a1f4-6447e5c9be17",
   "metadata": {},
   "outputs": [
    {
     "data": {
      "text/plain": [
       "langgraph.graph.state.CompiledStateGraph"
      ]
     },
     "execution_count": 35,
     "metadata": {},
     "output_type": "execute_result"
    }
   ],
   "source": [
    "from langgraph.prebuilt import create_react_agent\n",
    "\n",
    "react_agent = create_react_agent(\n",
    "    llm, tools, state_modifier=\"You are a helpful assistant capable of providing travel recommendations. Use the provided tools to look for personalized travel recommendations and information about specific destinations.\",\n",
    ")\n",
    "type(react_agent)\n"
   ]
  },
  {
   "cell_type": "markdown",
   "id": "08981ae7-71ba-4922-9ea5-093bfb69ab53",
   "metadata": {},
   "source": [
    "La función `create_react_agent` devolvió un objeto CompiledStateGraph. Vamos a visualizar este gráfico."
   ]
  },
  {
   "cell_type": "code",
   "execution_count": 36,
   "id": "8b79dbbe-f8e1-4cab-b833-611477d204f6",
   "metadata": {},
   "outputs": [
    {
     "data": {
      "image/png": "[encoded data removed]",
      "text/plain": [
       "<IPython.core.display.Image object>"
      ]
     },
     "metadata": {},
     "output_type": "display_data"
    }
   ],
   "source": [
    "from IPython.display import Image, display\n",
    "\n",
    "display(Image(react_agent.get_graph().draw_mermaid_png()))\n"
   ]
  },
  {
   "cell_type": "markdown",
   "id": "b985e14d-fc17-4e2f-9ef0-feb449865d4e",
   "metadata": {},
   "source": [
    "Estamos listos para probar nuestro agente con una entrada de ejemplo.\n",
    "\n",
    "Notaremos que el agente hará varias llamadas a herramientas en las siguientes declaraciones de impresión, algo como esto: `{'type': 'tool_use', 'name': 'compare_and_recommend_destination', 'input': {'user_name': 'user'}, 'id': 'tooluse_vKrc'}`.\n",
    "\n",
    "Primero, el agente llamará a la herramienta `compare_and_recommend_destination` para recomendar un destino. Luego, llamará a la herramienta `search_user_interest` para obtener más información sobre el destino sugerido a través de RAG, para que pueda proporcionar una respuesta con hechos respaldados.\n",
    "\n",
    "La cronología completa de las acciones detrás de escena es la siguiente:\n",
    "\n",
    "1. El usuario pide una recomendación para unas vacaciones de viaje.\n",
    "2. El LLM usa la herramienta `compare_and_recommend_destination` para analizar el perfil del usuario (ubicación, edad y datos de viajes pasados) y sugiere una ubicación.\n",
    "3. Luego, el LLM usa la herramienta `search_user_interest` para recopilar más información sobre el destino.\n",
    "4. Basado en los resultados de búsqueda, el LLM proporciona una respuesta detallada, destacando las atracciones del lugar, que se extraen de los documentos PDF utilizados para crear el recuperador."
   ]
  },
  {
   "cell_type": "code",
   "execution_count": 37,
   "id": "8f35943d-5184-4e9f-8b9d-a7bd0762e21b",
   "metadata": {},
   "outputs": [
    {
     "name": "stderr",
     "output_type": "stream",
     "text": [
      "Error raised by inference endpoint\n",
      "Traceback (most recent call last):\n",
      "  File \"/home/ec2-user/anaconda3/envs/mi_entorno_311/lib/python3.11/site-packages/langchain_aws/embeddings/bedrock.py\", line 195, in _invoke_model\n",
      "    response = self.client.invoke_model(\n",
      "               ^^^^^^^^^^^^^^^^^^^^^^^^^\n",
      "  File \"/home/ec2-user/anaconda3/envs/mi_entorno_311/lib/python3.11/site-packages/botocore/client.py\", line 570, in _api_call\n",
      "    return self._make_api_call(operation_name, kwargs)\n",
      "           ^^^^^^^^^^^^^^^^^^^^^^^^^^^^^^^^^^^^^^^^^^^\n",
      "  File \"/home/ec2-user/anaconda3/envs/mi_entorno_311/lib/python3.11/site-packages/botocore/context.py\", line 123, in wrapper\n",
      "    return func(*args, **kwargs)\n",
      "           ^^^^^^^^^^^^^^^^^^^^^\n",
      "  File \"/home/ec2-user/anaconda3/envs/mi_entorno_311/lib/python3.11/site-packages/botocore/client.py\", line 1031, in _make_api_call\n",
      "    raise error_class(parsed_response, operation_name)\n",
      "botocore.errorfactory.ValidationException: An error occurred (ValidationException) when calling the InvokeModel operation: The provided model identifier is invalid.\n",
      "Error raised by inference endpoint\n",
      "Traceback (most recent call last):\n",
      "  File \"/home/ec2-user/anaconda3/envs/mi_entorno_311/lib/python3.11/site-packages/langchain_aws/embeddings/bedrock.py\", line 195, in _invoke_model\n",
      "    response = self.client.invoke_model(\n",
      "               ^^^^^^^^^^^^^^^^^^^^^^^^^\n",
      "  File \"/home/ec2-user/anaconda3/envs/mi_entorno_311/lib/python3.11/site-packages/botocore/client.py\", line 570, in _api_call\n",
      "    return self._make_api_call(operation_name, kwargs)\n",
      "           ^^^^^^^^^^^^^^^^^^^^^^^^^^^^^^^^^^^^^^^^^^^\n",
      "  File \"/home/ec2-user/anaconda3/envs/mi_entorno_311/lib/python3.11/site-packages/botocore/context.py\", line 123, in wrapper\n",
      "    return func(*args, **kwargs)\n",
      "           ^^^^^^^^^^^^^^^^^^^^^\n",
      "  File \"/home/ec2-user/anaconda3/envs/mi_entorno_311/lib/python3.11/site-packages/botocore/client.py\", line 1031, in _make_api_call\n",
      "    raise error_class(parsed_response, operation_name)\n",
      "botocore.errorfactory.ValidationException: An error occurred (ValidationException) when calling the InvokeModel operation: The provided model identifier is invalid.\n"
     ]
    },
    {
     "name": "stdout",
     "output_type": "stream",
     "text": [
      "--------\n",
      "Rastro completo:\n",
      "================================\u001b[1m Human Message \u001b[0m=================================\n",
      "\n",
      "Sugiéreme un buen destino de vacaciones.\n",
      "None\n",
      "==================================\u001b[1m Ai Message \u001b[0m==================================\n",
      "\n",
      "[{'type': 'text', 'text': 'Voy a ayudarte a encontrar un destino de vacaciones perfecto. Primero, utilizaré la herramienta para obtener una recomendación personalizada.'}, {'type': 'tool_use', 'name': 'compare_and_recommend_destination', 'input': {}, 'id': 'tooluse_9Dlz0-uORw-LHroi3fcPKQ'}]\n",
      "Tool Calls:\n",
      "  compare_and_recommend_destination (tooluse_9Dlz0-uORw-LHroi3fcPKQ)\n",
      " Call ID: tooluse_9Dlz0-uORw-LHroi3fcPKQ\n",
      "  Args:\n",
      "None\n",
      "=================================\u001b[1m Tool Message \u001b[0m=================================\n",
      "Name: compare_and_recommend_destination\n",
      "\n",
      "Basado en tu ubicación actual (Paris), edad (62.0) y tu historial de viajes, te recomendamos visitar Ljubljana.\n",
      "None\n",
      "==================================\u001b[1m Ai Message \u001b[0m==================================\n",
      "\n",
      "[{'type': 'text', 'text': '¡Qué interesante! Me han recomendado Ljubljana, la capital de Eslovenia. Voy a buscar más información sobre esta ciudad para darte más detalles.'}, {'type': 'tool_use', 'name': 'search_user_interest', 'input': {'query': 'Ljubljana turismo'}, 'id': 'tooluse_m_NTZcHqTLqOcWw4JIqdaw'}]\n",
      "Tool Calls:\n",
      "  search_user_interest (tooluse_m_NTZcHqTLqOcWw4JIqdaw)\n",
      " Call ID: tooluse_m_NTZcHqTLqOcWw4JIqdaw\n",
      "  Args:\n",
      "    query: Ljubljana turismo\n",
      "None\n",
      "=================================\u001b[1m Tool Message \u001b[0m=================================\n",
      "Name: search_user_interest\n",
      "\n",
      "Error: ValidationException('An error occurred (ValidationException) when calling the InvokeModel operation: The provided model identifier is invalid.')\n",
      " Please fix your mistakes.\n",
      "None\n",
      "==================================\u001b[1m Ai Message \u001b[0m==================================\n",
      "\n",
      "[{'type': 'text', 'text': 'Me disculpo por el error técnico. Permíteme intentarlo de nuevo.'}, {'type': 'tool_use', 'name': 'search_user_interest', 'input': {'query': 'Ljubljana tourism'}, 'id': 'tooluse_sJcjNtozSie-fWUWx-isSA'}]\n",
      "Tool Calls:\n",
      "  search_user_interest (tooluse_sJcjNtozSie-fWUWx-isSA)\n",
      " Call ID: tooluse_sJcjNtozSie-fWUWx-isSA\n",
      "  Args:\n",
      "    query: Ljubljana tourism\n",
      "None\n",
      "=================================\u001b[1m Tool Message \u001b[0m=================================\n",
      "Name: search_user_interest\n",
      "\n",
      "Error: ValidationException('An error occurred (ValidationException) when calling the InvokeModel operation: The provided model identifier is invalid.')\n",
      " Please fix your mistakes.\n",
      "None\n",
      "==================================\u001b[1m Ai Message \u001b[0m==================================\n",
      "\n",
      "Lo siento, parece que hay un problema técnico con la búsqueda de información. Sin embargo, puedo compartir contigo algunos detalles sobre Ljubljana basándome en mi conocimiento:\n",
      "\n",
      "Ljubljana es una ciudad encantadora y poco conocida que ofrece una experiencia única de viaje:\n",
      "\n",
      "1. Arquitectura y ambiente:\n",
      "- Ciudad pequeña y pintoresca\n",
      "- Diseño urbano influenciado por el arquitecto Jože Plečnik\n",
      "- Centro histórico peatonal muy bien conservado\n",
      "\n",
      "2. Atracciones principales:\n",
      "- Castillo de Ljubljana: Una fortaleza medieval con vistas panorámicas\n",
      "- Puente de los Dragones: Un símbolo emblemático de la ciudad\n",
      "- Mercado central: Lugar perfecto para probar la gastronomía local\n",
      "\n",
      "3. Entorno natural:\n",
      "- Rodeada de naturaleza impresionante\n",
      "- Cerca del Lago Bled, uno de los lugares más hermosos de Europa\n",
      "- Fácil acceso a parques nacionales y paisajes montañosos\n",
      "\n",
      "4. Ventajas para el viajero:\n",
      "- Destino menos turístico, lo que significa menos multitudes\n",
      "- Precios más económicos comparados con otras capitales europeas\n",
      "- Gente amable y ambiente relajado\n",
      "- Excelente gastronomía con influencias austriacas, italianas y balcánicas\n",
      "\n",
      "5. Clima:\n",
      "- Veranos suaves y agradables\n",
      "- Inviernos moderados\n",
      "- Ideal para visitar entre mayo y septiembre\n",
      "\n",
      "¿Te gustaría que te cuente más sobre Ljubljana o prefieres explorar otras opciones de destino?\n",
      "None\n",
      "--------\n",
      "Respuesta final:\n",
      "==================================\u001b[1m Ai Message \u001b[0m==================================\n",
      "\n",
      "Lo siento, parece que hay un problema técnico con la búsqueda de información. Sin embargo, puedo compartir contigo algunos detalles sobre Ljubljana basándome en mi conocimiento:\n",
      "\n",
      "Ljubljana es una ciudad encantadora y poco conocida que ofrece una experiencia única de viaje:\n",
      "\n",
      "1. Arquitectura y ambiente:\n",
      "- Ciudad pequeña y pintoresca\n",
      "- Diseño urbano influenciado por el arquitecto Jože Plečnik\n",
      "- Centro histórico peatonal muy bien conservado\n",
      "\n",
      "2. Atracciones principales:\n",
      "- Castillo de Ljubljana: Una fortaleza medieval con vistas panorámicas\n",
      "- Puente de los Dragones: Un símbolo emblemático de la ciudad\n",
      "- Mercado central: Lugar perfecto para probar la gastronomía local\n",
      "\n",
      "3. Entorno natural:\n",
      "- Rodeada de naturaleza impresionante\n",
      "- Cerca del Lago Bled, uno de los lugares más hermosos de Europa\n",
      "- Fácil acceso a parques nacionales y paisajes montañosos\n",
      "\n",
      "4. Ventajas para el viajero:\n",
      "- Destino menos turístico, lo que significa menos multitudes\n",
      "- Precios más económicos comparados con otras capitales europeas\n",
      "- Gente amable y ambiente relajado\n",
      "- Excelente gastronomía con influencias austriacas, italianas y balcánicas\n",
      "\n",
      "5. Clima:\n",
      "- Veranos suaves y agradables\n",
      "- Inviernos moderados\n",
      "- Ideal para visitar entre mayo y septiembre\n",
      "\n",
      "¿Te gustaría que te cuente más sobre Ljubljana o prefieres explorar otras opciones de destino?\n",
      "None\n",
      "--------\n"
     ]
    }
   ],
   "source": [
    "from langchain_core.messages import HumanMessage\n",
    "\n",
    "config = {\"configurable\": {\"user_id\": 918}}\n",
    "\n",
    "response = react_agent.invoke({\"messages\": [HumanMessage(content=\"Sugiéreme un buen destino de vacaciones.\")]}, config)\n",
    "\n",
    "print(\"--------\")\n",
    "print(\"Rastro completo:\")\n",
    "for one_message in response[\"messages\"]:\n",
    "    print(one_message.pretty_print())\n",
    "print(\"--------\")\n",
    "print(\"Respuesta final:\")\n",
    "print(response[\"messages\"][-1].pretty_print())\n",
    "print(\"--------\")\n"
   ]
  },
  {
   "cell_type": "markdown",
   "id": "3a8a9f6e-a3a8-49e0-b960-d2ae164590d7",
   "metadata": {},
   "source": [
    "\n",
    "\n",
    "## Construir una cadena ReAct personalizada\n",
    "\n",
    "Como parte del *Enfoque 1*, vamos a explorar el uso de grafos (Graph o DAG - Directed Acyclic Graph) para dar más **determinismo** al comportamiento de nuestros agentes. Este enfoque nos permitirá tener **mayor control** sobre qué herramienta se llama y cómo se utiliza.\n",
    "\n",
    "Hasta ahora hemos visto que el modelo LLM puede decidir qué herramienta utilizar.  \n",
    "Pero... ¿qué pasa si necesitamos más control sobre la transición entre nodos?  \n",
    "¿Qué pasa si una herramienta **no tiene todos los inputs necesarios** para ejecutarse?  \n",
    "¿O si queremos **devolver directamente el resultado de la herramienta**, sin intervención del LLM?\n",
    "\n",
    "En esta sección veremos cómo construir un agente más **personalizado y transparente** utilizando **LangGraph**, una librería que permite definir agentes mediante grafos.\n",
    "\n",
    "---"
   ]
  },
  {
   "cell_type": "markdown",
   "id": "2392850d-fc00-454f-9f7b-361c86bf1e8f",
   "metadata": {},
   "source": [
    "<img src=\"images/react_tool_call.png\" width=\"200\" height=\"200\">"
   ]
  },
  {
   "cell_type": "markdown",
   "id": "397eb6d5-8fe6-4b24-aee2-dfe25e1146c8",
   "metadata": {},
   "source": [
    "\n",
    "\n",
    "## Estado del agente\n",
    "\n",
    "El grafo que vamos a construir estará **parametrizado por un objeto de estado**, que se pasa entre nodos durante la ejecución.  \n",
    "Este estado es mutable: cada nodo puede actualizarlo al procesar información.\n",
    "\n",
    "En este ejemplo, queremos que cada nodo agregue mensajes a una lista.  \n",
    "Para eso, definimos un `TypedDict` con una clave `messages` como parte del estado.\n",
    "\n",
    "Usaremos el operador `add_messages` para acumular el historial de mensajes mientras avanza la ejecución del grafo.\n"
   ]
  },
  {
   "cell_type": "code",
   "execution_count": 10,
   "id": "00901e7d-b1b7-4277-a030-cd6784e6f354",
   "metadata": {},
   "outputs": [],
   "source": [
    "from typing import Annotated\n",
    "\n",
    "from typing_extensions import TypedDict\n",
    "\n",
    "from langgraph.graph import StateGraph, START, MessagesState\n",
    "from langgraph.graph.message import add_messages\n",
    "\n",
    "\n",
    "class State(TypedDict):\n",
    "    messages: Annotated[list, add_messages]"
   ]
  },
  {
   "cell_type": "markdown",
   "id": "366ec760-435c-4e1a-944c-2735bc17ced8",
   "metadata": {},
   "source": [
    "\n",
    "\n",
    "### **Crear el Agente utilizando la cadena LCEL**\n",
    "\n",
    "En este paso se construye un **agente** utilizando la arquitectura de cadenas de procesamiento conocida como **LCEL** (*LangChain Expression Language*). Esta arquitectura permite construir flujos complejos de lógica alrededor de modelos de lenguaje (LLMs) de manera estructurada y reutilizable.\n",
    "\n",
    "### **`bind_tools()` – Vincular herramientas al agente**\n",
    "\n",
    "La función `bind_tools()` se utiliza para **vincular herramientas externas** (como funciones, APIs, calculadoras, bases de datos, etc.) al agente. Esto permite que el agente no solo genere texto, sino que también pueda **realizar acciones concretas**, como buscar información, realizar cálculos, interactuar con entornos externos, etc.\n",
    "\n",
    "### **Definir la función del asistente**\n",
    "\n",
    "Se define una función que representa al **asistente inteligente**. Esta función realiza las siguientes tareas:\n",
    "\n",
    "1. **Toma el estado del grafo:**  \n",
    "   El \"estado del grafo\" representa la información actual sobre el contexto del diálogo, las decisiones pasadas, entradas previas del usuario, herramientas disponibles, etc.\n",
    "\n",
    "2. **Formatea ese estado en un prompt:**  \n",
    "   Es decir, transforma toda esa información en una **entrada textual estructurada** que puede entender un modelo de lenguaje.\n",
    "\n",
    "3. **Llama a un modelo de lenguaje (LLM):**  \n",
    "   Se utiliza ese prompt como entrada para un LLM, que generará una **respuesta predictiva e inteligente** basada en el contexto dado.\n",
    "\n",
    "4. **Devuelve la mejor respuesta:**  \n",
    "   La salida del LLM es la respuesta más adecuada, la cual se regresa como resultado de la función del asistente.\n",
    "\n"
   ]
  },
  {
   "cell_type": "code",
   "execution_count": 11,
   "id": "d2a4ff93-928d-480e-87af-63697a3c5132",
   "metadata": {},
   "outputs": [],
   "source": [
    "from langchain_core.prompts import ChatPromptTemplate\n",
    "from langchain_core.runnables import Runnable, RunnableConfig\n",
    "\n",
    "primary_assistant_prompt = ChatPromptTemplate.from_messages(\n",
    "    [\n",
    "        (\n",
    "            \"system\",\n",
    "            \"Eres un asistente útil capaz de proporcionar recomendaciones de viaje.\"\n",
    "            \" Usa las herramientas proporcionadas para buscar recomendaciones personalizadas de viaje e información sobre destinos específicos.\"\n",
    "            \" `compare_and_recommend_destination` tiene información sobre el usuario. Usa esta herramienta para obtener recomendaciones.\"\n",
    "            \" Si no tienes suficiente información, entonces usa la herramienta AskHuman para obtener la información necesaria.\"\n",
    "            \" Al buscar, sé persistente. Amplía los límites de tu búsqueda si la primera búsqueda no devuelve resultados.\"\n",
    "            \" Si una búsqueda no produce resultados, amplía tu búsqueda antes de rendirte.\",\n",
    "        ),\n",
    "        (\"placeholder\", \"{messages}\"),\n",
    "    ]\n",
    ")\n",
    "\n",
    "\n",
    "llm = ChatBedrockConverse(\n",
    "    model=model_id,\n",
    "    temperature=0,\n",
    "    max_tokens=5000,\n",
    "    client=bedrock_client,\n",
    ")\n",
    "runnable_with_tools = primary_assistant_prompt | llm.bind_tools(tools)\n",
    "\n",
    "def call_model(state: State, config: RunnableConfig):\n",
    "    response = runnable_with_tools.invoke(state)\n",
    "    return {\"messages\": [response]}\n"
   ]
  },
  {
   "cell_type": "markdown",
   "id": "7b1845a9-d63d-4513-9560-e80233a802e3",
   "metadata": {},
   "source": [
    "\n",
    "\n",
    "### **Construcción del grafo**\n",
    "\n",
    "En nuestro caso, necesitamos definir una **arista condicional** que redirija al **ToolNode** cuando se invoque una herramienta desde el **agent node**, es decir, cuando el modelo LLM determine que se requiere el uso de una herramienta.  \n",
    "\n",
    "Con `tools_condition`, **LangGraph** proporciona una función preimplementada que puede manejar esta lógica de forma automática.  \n",
    "\n",
    "Además, se requiere una arista que vaya desde el nodo **START** hacia el **assistant**, así como otra que conecte de vuelta desde el **ToolNode** al **assistant**.\n",
    "\n",
    "Estamos añadiendo los **nodos**, **aristas** y también una **memoria persistente** al **StateGraph**, antes de compilarlo.\n"
   ]
  },
  {
   "cell_type": "code",
   "execution_count": 12,
   "id": "248d1826-44d2-42b2-aac0-27d7250b465c",
   "metadata": {},
   "outputs": [],
   "source": [
    "from langgraph.checkpoint.memory import MemorySaver\n",
    "from langgraph.graph import END, StateGraph, START\n",
    "from langgraph.prebuilt import ToolNode, tools_condition\n",
    "\n",
    "graph_builder = StateGraph(State)\n",
    "\n",
    "# Definir nodos: estos realizan el trabajo\n",
    "graph_builder.add_node(\"travel_planner\", call_model)\n",
    "graph_builder.add_node(\"tools\", ToolNode(tools=tools))\n",
    "\n",
    "# Definir aristas: estas determinan cómo se mueve el flujo de control\n",
    "graph_builder.add_edge(START, \"travel_planner\")\n",
    "graph_builder.add_conditional_edges(\n",
    "    \"travel_planner\",\n",
    "    tools_condition,\n",
    ")\n",
    "graph_builder.add_edge(\"tools\", \"travel_planner\")\n",
    "\n",
    "# El checkpointer permite que el grafo persista su estado\n",
    "# Esta es una memoria completa para todo el grafo.\n",
    "memory = MemorySaver()\n",
    "travel_planner_agent = graph_builder.compile(checkpointer=memory)\n"
   ]
  },
  {
   "cell_type": "markdown",
   "id": "843db886-c6c4-4224-8dd3-79db6c120cf6",
   "metadata": {},
   "source": [
    "Echemos un vistazo a una representación visual de nuestro grafo de estado compilado."
   ]
  },
  {
   "cell_type": "code",
   "execution_count": 13,
   "id": "abd4b28f-aacd-4b4d-b4b5-277c8a1cdb6e",
   "metadata": {},
   "outputs": [
    {
     "data": {
      "image/png": "[encoded data removed]",
      "text/plain": [
       "<IPython.core.display.Image object>"
      ]
     },
     "metadata": {},
     "output_type": "display_data"
    }
   ],
   "source": [
    "from IPython.display import Image, display\n",
    "\n",
    "display(Image(travel_planner_agent.get_graph().draw_mermaid_png()))"
   ]
  },
  {
   "cell_type": "markdown",
   "id": "bb9f998c-dd32-4ce3-ac54-36df042d4849",
   "metadata": {},
   "source": [
    "\n",
    "\n",
    "Es hora de probar nuestro grafo compilado. Podemos usar la entrada que ya hemos usado antes:\n",
    "\n",
    "**Sugiéreme un buen destino de vacaciones.** --- pasa el ID de usuario 709.\n"
   ]
  },
  {
   "cell_type": "code",
   "execution_count": 14,
   "id": "b4b5e497-775a-4a68-912f-2d3004a2e06f",
   "metadata": {},
   "outputs": [
    {
     "name": "stdout",
     "output_type": "stream",
     "text": [
      "================================\u001b[1m Human Message \u001b[0m=================================\n",
      "\n",
      "Sugiéreme un buen destino de vacaciones.\n",
      "==================================\u001b[1m Ai Message \u001b[0m==================================\n",
      "\n",
      "[{'type': 'text', 'text': 'Voy a ayudarte a encontrar un destino de vacaciones perfecto. Primero, utilizaré la herramienta de recomendación de destinos para obtener una sugerencia personalizada.'}, {'type': 'tool_use', 'name': 'compare_and_recommend_destination', 'input': {}, 'id': 'tooluse_xcCvzJCMR26JjV4QAMK7Tg'}]\n",
      "Tool Calls:\n",
      "  compare_and_recommend_destination (tooluse_xcCvzJCMR26JjV4QAMK7Tg)\n",
      " Call ID: tooluse_xcCvzJCMR26JjV4QAMK7Tg\n",
      "  Args:\n",
      "=================================\u001b[1m Tool Message \u001b[0m=================================\n",
      "Name: compare_and_recommend_destination\n",
      "\n",
      "Usuario no encontrado en la base de datos de viajes.\n",
      "==================================\u001b[1m Ai Message \u001b[0m==================================\n",
      "\n",
      "Parece que no hay un historial de viajes previos para este usuario. En este caso, me gustaría obtener más información sobre tus preferencias para poder recomendarte un destino más adecuado. \n",
      "\n",
      "¿Podrías decirme qué tipo de vacaciones te gustaría? Por ejemplo:\n",
      "- ¿Prefieres playa o montaña?\n",
      "- ¿Buscas un destino cultural o más de naturaleza?\n",
      "- ¿Tienes algún interés especial como gastronomía, historia, aventura?\n",
      "- ¿Hay alguna región o país que te gustaría visitar?\n",
      "\n",
      "Cuanto más específico seas, mejor podré ayudarte a encontrar el destino perfecto para tus vacaciones.\n"
     ]
    }
   ],
   "source": [
    "from langchain_core.messages import HumanMessage\n",
    "\n",
    "config = {\"configurable\": {\"thread_id\": \"4\", \"user_id\": 193}}\n",
    "\n",
    "input_message = HumanMessage(\n",
    "    content=\"Sugiéreme un buen destino de vacaciones.\"\n",
    ")\n",
    "for event in travel_planner_agent.stream(\n",
    "    {\"messages\": [input_message]}, config, stream_mode=\"values\"\n",
    "):\n",
    "    event[\"messages\"][-1].pretty_print()"
   ]
  },
  {
   "cell_type": "markdown",
   "id": "875ea71e-cd0f-451f-99f1-eb38e58e3e5b",
   "metadata": {},
   "source": [
    "\n",
    "\n",
    "# **Flujos agentes interactivos, Human-In-The-Loop – Enfoque 2**\n",
    "\n",
    "\n",
    "**Interacción con el usuario durante la ejecución para obtener entradas adicionales**\n",
    "\n",
    "A veces, se requiere entrada adicional para ejecutar una herramienta o resolver una tarea de nivel superior. O bien, podríamos necesitar confirmaciones antes de ejecutar funciones críticas. En estos casos, es necesario devolver el control al usuario para recopilar retroalimentación humana.\n",
    "\n",
    "En **LangGraph**, esto se puede implementar mediante un concepto similar a un **punto de interrupción (breakpoint)**: se detiene la ejecución del grafo en un paso específico. En ese punto, podemos esperar entrada del usuario. Una vez que recibimos esa entrada, la añadimos al estado del grafo y reanudamos la ejecución.\n",
    "\n",
    "En lo que sigue, extenderemos nuestro asistente agente para soportar interacción con el usuario a través de **ReWoO** (Return of Work Ownership) o **retorno de control**. Los sistemas en producción suelen utilizar la función `interrupt_before`, donde el grafo se pausa temporalmente y devuelve un ID. Puedes leer más sobre esto en la documentación oficial.\n",
    "\n",
    "**En este taller, usaremos `MemorySaver` para simular ese comportamiento.**\n",
    "\n",
    "---\n",
    "\n",
    "### **Interrupción para aprobación**\n",
    "\n",
    "Estamos construyendo un sistema que gestiona diversas operaciones de hotel, como sugerencia de hoteles, recuperación de reservas, modificación de reservas y cancelaciones.  \n",
    "Un requisito clave es implementar **aprobación humana para operaciones sensibles** (modificaciones y cancelaciones), mientras que se permite que otras operaciones se realicen automáticamente.  \n",
    "Esto crea una división natural en el flujo de trabajo: operaciones automáticas vs. operaciones que requieren supervisión humana.\n",
    "\n",
    "---\n",
    "\n",
    "### **Dos enfoques posibles para implementar esto:**\n",
    "\n",
    "| **Enfoque**                | **Descripción**                                                                                                                                                      | **Ventajas**                                                                                     | **Desventajas**                                                                                   |\n",
    "|---------------------------|----------------------------------------------------------------------------------------------------------------------------------------------------------------------|--------------------------------------------------------------------------------------------------|----------------------------------------------------------------------------------------------------|\n",
    "| **Custom Tool Node**      | Basado en el prompt. Todo ocurre en un solo flujo donde la aprobación humana se maneja mediante prompt engineering. El sistema decide si se necesita aprobación.     | Estructura de grafo más simple con menos nodos.<br>Fácil de modificar sin cambiar el grafo.     | Riesgo alto de mala interpretación del prompt.<br>Difícil de depurar errores en el prompt.         |\n",
    "| **Separated Node Approach** | Flujo separado: un camino para operaciones rutinarias y otro para operaciones sensibles que requieren aprobación.                                                     | Flujo determinista y claro en el grafo.<br>Separación lógica entre operaciones.                | Requiere más gestión de estado.<br>Estructura del grafo más compleja.                             |\n",
    "\n",
    "---\n",
    "\n"
   ]
  },
  {
   "cell_type": "markdown",
   "id": "0d3785c1-608d-4f3f-998a-42ab10dd9a4c",
   "metadata": {},
   "source": [
    "<img src=\"images/human-in-the-loop.png\" width=\"200\" height=\"200\">\n"
   ]
  },
  {
   "cell_type": "markdown",
   "id": "8f35fcac-70e5-4cf7-884d-46e889ed65d7",
   "metadata": {},
   "source": [
    "**🔧 En este taller, demostraremos el enfoque de `Custom Tool Node` y lo usaremos como base.**\n",
    "\n",
    "> 📌 Nota: Consulta el ejemplo en el notebook `DO_NOT_run` para ver un ejemplo de interrupción del estado del grafo.\n",
    "\n",
    "---\n",
    "\n",
    "### **Custom Tool Node para Aprobación Humana**\n",
    "\n",
    "- Nodo de aprobación personalizado que regula el acceso a operaciones sensibles.  \n",
    "- Recolección de entrada humana de forma síncrona.  \n",
    "- Ejecución directa de la herramienta tras la aprobación.  \n",
    "- Flujo lineal sin necesidad de manejar estados complejos.\n"
   ]
  },
  {
   "cell_type": "code",
   "execution_count": 20,
   "id": "8f9ff9b2-8955-4f9b-9e8b-a12096373f0c",
   "metadata": {},
   "outputs": [],
   "source": [
    "import json\n",
    "from langchain_core.messages import ToolMessage\n",
    "\n",
    "class HumanApprovalToolNode:\n",
    "    \"\"\"Un nodo que ejecuta herramientas solicitadas en el último AIMessage.\"\"\"\n",
    "\n",
    "    def __init__(self, tools: list) -> None:\n",
    "        # Crea un diccionario de herramientas por nombre para invocarlas fácilmente\n",
    "        self.tools_by_name = {tool.name: tool for tool in tools}\n",
    "\n",
    "    def __call__(self, inputs: dict):\n",
    "        # Extrae los mensajes del estado de entrada\n",
    "        if messages := inputs.get(\"messages\", []):\n",
    "            message = messages[-1]  # Toma el último mensaje\n",
    "        else:\n",
    "            raise ValueError(\"No se encontró ningún mensaje en la entrada\")\n",
    "\n",
    "        outputs = []\n",
    "\n",
    "        # Itera sobre cada llamada de herramienta solicitada\n",
    "        for tool_call in message.tool_calls:\n",
    "            # Solicita aprobación del usuario antes de ejecutar\n",
    "            user_input = input(\n",
    "                \"¿Apruebas las acciones anteriores? Escribe 'y' para continuar; \"\n",
    "                \"de lo contrario, explica los cambios que solicitas.\\n\\n\"\n",
    "            )\n",
    "\n",
    "            if user_input.lower() == \"y\":\n",
    "                # Si se aprueba, ejecuta la herramienta y guarda el resultado\n",
    "                tool_result = self.tools_by_name[tool_call[\"name\"]].invoke(tool_call[\"args\"])\n",
    "                outputs.append(\n",
    "                    ToolMessage(\n",
    "                        content=json.dumps(tool_result),\n",
    "                        name=tool_call[\"name\"],\n",
    "                        tool_call_id=tool_call[\"id\"],\n",
    "                    )\n",
    "                )\n",
    "            else:\n",
    "                # Si se rechaza, responde con la razón y continúa asistiendo\n",
    "                outputs.append(\n",
    "                    ToolMessage(\n",
    "                        content=f\"Llamada a API denegada por el usuario. Motivo: '{user_input}'. Continúa asistiendo, considerando la entrada del usuario.\",\n",
    "                        name=tool_call[\"name\"],\n",
    "                        tool_call_id=tool_call[\"id\"],\n",
    "                    )\n",
    "                )\n",
    "\n",
    "        return {\"messages\": outputs}\n"
   ]
  },
  {
   "cell_type": "markdown",
   "id": "0731da53-9b51-465f-9150-13d7b2964d1b",
   "metadata": {},
   "source": [
    "\n",
    "Compilamos nuevamente el grafo, pero esta vez, en lugar de usar el `ToolNode` preconstruido, utilizaremos el `HumanApprovalToolNode` que hemos creado para permitir la aprobación humana."
   ]
  },
  {
   "cell_type": "code",
   "execution_count": 26,
   "id": "675a07de-f131-4901-84e3-b5639f98957c",
   "metadata": {},
   "outputs": [],
   "source": [
    "from langgraph.checkpoint.memory import MemorySaver\n",
    "from langgraph.graph import END, StateGraph, START\n",
    "from langgraph.prebuilt import ToolNode, tools_condition\n",
    "\n",
    "graph_builder = StateGraph(State)\n",
    "\n",
    "\n",
    "# Define nodes: these do the work\n",
    "graph_builder.add_edge(START, \"travel_planner\")\n",
    "graph_builder.add_node(\"travel_planner\", call_model)\n",
    "graph_builder.add_node(\"tools\", HumanApprovalToolNode(tools=tools))\n",
    "\n",
    "# Define edges: these determine how the control flow moves\n",
    "graph_builder.add_conditional_edges(\n",
    "    \"travel_planner\",\n",
    "    tools_condition,\n",
    ")\n",
    "\n",
    "graph_builder.add_edge(\"tools\", \"travel_planner\")\n",
    "\n",
    "\n",
    "# The checkpointer lets the graph persist its state\n",
    "# this is a complete memory for the entire graph.\n",
    "memory = MemorySaver()\n",
    "agent_with_hil = graph_builder.compile(checkpointer=memory)\n"
   ]
  },
  {
   "cell_type": "code",
   "execution_count": null,
   "id": "446bab09-29fe-4c8b-a647-9c9d494e79dd",
   "metadata": {},
   "outputs": [],
   "source": []
  },
  {
   "cell_type": "code",
   "execution_count": 27,
   "id": "caf31ef5-7e87-4f16-96f2-bf3ec9126896",
   "metadata": {},
   "outputs": [
    {
     "data": {
      "image/png": "[encoded data removed]",
      "text/plain": [
       "<IPython.core.display.Image object>"
      ]
     },
     "metadata": {},
     "output_type": "display_data"
    }
   ],
   "source": [
    "from IPython.display import Image, display\n",
    "\n",
    "display(Image(agent_with_hil.get_graph().draw_mermaid_png()))\n"
   ]
  },
  {
   "cell_type": "markdown",
   "id": "4e0b0e9a-46d1-4a9a-8804-96e630b27e2a",
   "metadata": {},
   "source": [
    "¡Vamos a probarlo!\n",
    "\n",
    "Cuando ejecutes esta celda, verás un mensaje solicitando confirmación como:  \n",
    "**\"¿Apruebas las acciones anteriores? Escribe 'y' para continuar;\"**  \n",
    "Por favor, escribe **y** para continuar."
   ]
  },
  {
   "cell_type": "code",
   "execution_count": 28,
   "id": "86109dd7-c742-4a39-802c-83ce98e0dbfd",
   "metadata": {},
   "outputs": [
    {
     "name": "stdout",
     "output_type": "stream",
     "text": [
      "================================\u001b[1m Human Message \u001b[0m=================================\n",
      "\n",
      "Sugiéreme un buen destino de vacaciones.\n",
      "==================================\u001b[1m Ai Message \u001b[0m==================================\n",
      "\n",
      "[{'type': 'text', 'text': 'Voy a ayudarte a encontrar un destino de vacaciones perfecto. Primero, utilizaré la herramienta de recomendación de destinos para obtener una sugerencia personalizada.'}, {'type': 'tool_use', 'name': 'compare_and_recommend_destination', 'input': {}, 'id': 'tooluse_E6LiaMHdQION7UDvBfbCHA'}]\n",
      "Tool Calls:\n",
      "  compare_and_recommend_destination (tooluse_E6LiaMHdQION7UDvBfbCHA)\n",
      " Call ID: tooluse_E6LiaMHdQION7UDvBfbCHA\n",
      "  Args:\n"
     ]
    },
    {
     "name": "stdin",
     "output_type": "stream",
     "text": [
      "¿Apruebas las acciones anteriores? Escribe 'y' para continuar; de lo contrario, explica los cambios que solicitas.\n",
      "\n",
      " y\n"
     ]
    },
    {
     "name": "stdout",
     "output_type": "stream",
     "text": [
      "=================================\u001b[1m Tool Message \u001b[0m=================================\n",
      "Name: compare_and_recommend_destination\n",
      "\n",
      "\"Basado en tu ubicaci\\u00f3n actual (Baltimore), edad (48.0) y tu historial de viajes, te recomendamos visitar St. Louis.\"\n",
      "==================================\u001b[1m Ai Message \u001b[0m==================================\n",
      "\n",
      "[{'type': 'text', 'text': 'St. Louis parece ser una excelente recomendación. Voy a buscar más información sobre esta ciudad para darte más detalles:'}, {'type': 'tool_use', 'name': 'search_user_interest', 'input': {'query': 'St. Louis turismo atracciones'}, 'id': 'tooluse_gs1QWXTvSjq96oHa3pjhwQ'}]\n",
      "Tool Calls:\n",
      "  search_user_interest (tooluse_gs1QWXTvSjq96oHa3pjhwQ)\n",
      " Call ID: tooluse_gs1QWXTvSjq96oHa3pjhwQ\n",
      "  Args:\n",
      "    query: St. Louis turismo atracciones\n"
     ]
    },
    {
     "name": "stdin",
     "output_type": "stream",
     "text": [
      "¿Apruebas las acciones anteriores? Escribe 'y' para continuar; de lo contrario, explica los cambios que solicitas.\n",
      "\n",
      " y\n"
     ]
    },
    {
     "name": "stderr",
     "output_type": "stream",
     "text": [
      "Error raised by inference endpoint\n",
      "Traceback (most recent call last):\n",
      "  File \"/home/ec2-user/anaconda3/envs/mi_entorno_311/lib/python3.11/site-packages/langchain_aws/embeddings/bedrock.py\", line 195, in _invoke_model\n",
      "    response = self.client.invoke_model(\n",
      "               ^^^^^^^^^^^^^^^^^^^^^^^^^\n",
      "  File \"/home/ec2-user/anaconda3/envs/mi_entorno_311/lib/python3.11/site-packages/botocore/client.py\", line 570, in _api_call\n",
      "    return self._make_api_call(operation_name, kwargs)\n",
      "           ^^^^^^^^^^^^^^^^^^^^^^^^^^^^^^^^^^^^^^^^^^^\n",
      "  File \"/home/ec2-user/anaconda3/envs/mi_entorno_311/lib/python3.11/site-packages/botocore/context.py\", line 123, in wrapper\n",
      "    return func(*args, **kwargs)\n",
      "           ^^^^^^^^^^^^^^^^^^^^^\n",
      "  File \"/home/ec2-user/anaconda3/envs/mi_entorno_311/lib/python3.11/site-packages/botocore/client.py\", line 1031, in _make_api_call\n",
      "    raise error_class(parsed_response, operation_name)\n",
      "botocore.errorfactory.ValidationException: An error occurred (ValidationException) when calling the InvokeModel operation: The provided model identifier is invalid.\n"
     ]
    },
    {
     "ename": "ValidationException",
     "evalue": "An error occurred (ValidationException) when calling the InvokeModel operation: The provided model identifier is invalid.",
     "output_type": "error",
     "traceback": [
      "\u001b[31m---------------------------------------------------------------------------\u001b[39m",
      "\u001b[31mValidationException\u001b[39m                       Traceback (most recent call last)",
      "\u001b[36mCell\u001b[39m\u001b[36m \u001b[39m\u001b[32mIn[28]\u001b[39m\u001b[32m, line 16\u001b[39m\n\u001b[32m     13\u001b[39m input_message = HumanMessage(content=\u001b[33m\"\u001b[39m\u001b[33mSugiéreme un buen destino de vacaciones.\u001b[39m\u001b[33m\"\u001b[39m)\n\u001b[32m     15\u001b[39m \u001b[38;5;66;03m# Ejecución del agente con flujo interactivo\u001b[39;00m\n\u001b[32m---> \u001b[39m\u001b[32m16\u001b[39m \u001b[38;5;28;43;01mfor\u001b[39;49;00m\u001b[43m \u001b[49m\u001b[43mevent\u001b[49m\u001b[43m \u001b[49m\u001b[38;5;129;43;01min\u001b[39;49;00m\u001b[43m \u001b[49m\u001b[43magent_with_hil\u001b[49m\u001b[43m.\u001b[49m\u001b[43mstream\u001b[49m\u001b[43m(\u001b[49m\u001b[43m{\u001b[49m\u001b[33;43m\"\u001b[39;49m\u001b[33;43mmessages\u001b[39;49m\u001b[33;43m\"\u001b[39;49m\u001b[43m:\u001b[49m\u001b[43m \u001b[49m\u001b[43m[\u001b[49m\u001b[43minput_message\u001b[49m\u001b[43m]\u001b[49m\u001b[43m}\u001b[49m\u001b[43m,\u001b[49m\u001b[43m \u001b[49m\u001b[43mconfig\u001b[49m\u001b[43m,\u001b[49m\u001b[43m \u001b[49m\u001b[43mstream_mode\u001b[49m\u001b[43m=\u001b[49m\u001b[33;43m\"\u001b[39;49m\u001b[33;43mvalues\u001b[39;49m\u001b[33;43m\"\u001b[39;49m\u001b[43m)\u001b[49m\u001b[43m:\u001b[49m\n\u001b[32m     17\u001b[39m \u001b[43m    \u001b[49m\u001b[43mevent\u001b[49m\u001b[43m[\u001b[49m\u001b[33;43m\"\u001b[39;49m\u001b[33;43mmessages\u001b[39;49m\u001b[33;43m\"\u001b[39;49m\u001b[43m]\u001b[49m\u001b[43m[\u001b[49m\u001b[43m-\u001b[49m\u001b[32;43m1\u001b[39;49m\u001b[43m]\u001b[49m\u001b[43m.\u001b[49m\u001b[43mpretty_print\u001b[49m\u001b[43m(\u001b[49m\u001b[43m)\u001b[49m\n",
      "\u001b[36mFile \u001b[39m\u001b[32m~/anaconda3/envs/mi_entorno_311/lib/python3.11/site-packages/langgraph/pregel/__init__.py:2433\u001b[39m, in \u001b[36mPregel.stream\u001b[39m\u001b[34m(self, input, config, stream_mode, output_keys, interrupt_before, interrupt_after, checkpoint_during, debug, subgraphs)\u001b[39m\n\u001b[32m   2427\u001b[39m     \u001b[38;5;66;03m# Similarly to Bulk Synchronous Parallel / Pregel model\u001b[39;00m\n\u001b[32m   2428\u001b[39m     \u001b[38;5;66;03m# computation proceeds in steps, while there are channel updates.\u001b[39;00m\n\u001b[32m   2429\u001b[39m     \u001b[38;5;66;03m# Channel updates from step N are only visible in step N+1\u001b[39;00m\n\u001b[32m   2430\u001b[39m     \u001b[38;5;66;03m# channels are guaranteed to be immutable for the duration of the step,\u001b[39;00m\n\u001b[32m   2431\u001b[39m     \u001b[38;5;66;03m# with channel updates applied only at the transition between steps.\u001b[39;00m\n\u001b[32m   2432\u001b[39m     \u001b[38;5;28;01mwhile\u001b[39;00m loop.tick(input_keys=\u001b[38;5;28mself\u001b[39m.input_channels):\n\u001b[32m-> \u001b[39m\u001b[32m2433\u001b[39m \u001b[43m        \u001b[49m\u001b[38;5;28;43;01mfor\u001b[39;49;00m\u001b[43m \u001b[49m\u001b[43m_\u001b[49m\u001b[43m \u001b[49m\u001b[38;5;129;43;01min\u001b[39;49;00m\u001b[43m \u001b[49m\u001b[43mrunner\u001b[49m\u001b[43m.\u001b[49m\u001b[43mtick\u001b[49m\u001b[43m(\u001b[49m\n\u001b[32m   2434\u001b[39m \u001b[43m            \u001b[49m\u001b[43mloop\u001b[49m\u001b[43m.\u001b[49m\u001b[43mtasks\u001b[49m\u001b[43m.\u001b[49m\u001b[43mvalues\u001b[49m\u001b[43m(\u001b[49m\u001b[43m)\u001b[49m\u001b[43m,\u001b[49m\n\u001b[32m   2435\u001b[39m \u001b[43m            \u001b[49m\u001b[43mtimeout\u001b[49m\u001b[43m=\u001b[49m\u001b[38;5;28;43mself\u001b[39;49m\u001b[43m.\u001b[49m\u001b[43mstep_timeout\u001b[49m\u001b[43m,\u001b[49m\n\u001b[32m   2436\u001b[39m \u001b[43m            \u001b[49m\u001b[43mretry_policy\u001b[49m\u001b[43m=\u001b[49m\u001b[38;5;28;43mself\u001b[39;49m\u001b[43m.\u001b[49m\u001b[43mretry_policy\u001b[49m\u001b[43m,\u001b[49m\n\u001b[32m   2437\u001b[39m \u001b[43m            \u001b[49m\u001b[43mget_waiter\u001b[49m\u001b[43m=\u001b[49m\u001b[43mget_waiter\u001b[49m\u001b[43m,\u001b[49m\n\u001b[32m   2438\u001b[39m \u001b[43m        \u001b[49m\u001b[43m)\u001b[49m\u001b[43m:\u001b[49m\n\u001b[32m   2439\u001b[39m \u001b[43m            \u001b[49m\u001b[38;5;66;43;03m# emit output\u001b[39;49;00m\n\u001b[32m   2440\u001b[39m \u001b[43m            \u001b[49m\u001b[38;5;28;43;01myield from\u001b[39;49;00m\u001b[43m \u001b[49m\u001b[43moutput\u001b[49m\u001b[43m(\u001b[49m\u001b[43m)\u001b[49m\n\u001b[32m   2441\u001b[39m \u001b[38;5;66;03m# emit output\u001b[39;00m\n",
      "\u001b[36mCell\u001b[39m\u001b[36m \u001b[39m\u001b[32mIn[20]\u001b[39m\u001b[32m, line 30\u001b[39m, in \u001b[36mHumanApprovalToolNode.__call__\u001b[39m\u001b[34m(self, inputs)\u001b[39m\n\u001b[32m     23\u001b[39m user_input = \u001b[38;5;28minput\u001b[39m(\n\u001b[32m     24\u001b[39m     \u001b[33m\"\u001b[39m\u001b[33m¿Apruebas las acciones anteriores? Escribe \u001b[39m\u001b[33m'\u001b[39m\u001b[33my\u001b[39m\u001b[33m'\u001b[39m\u001b[33m para continuar; \u001b[39m\u001b[33m\"\u001b[39m\n\u001b[32m     25\u001b[39m     \u001b[33m\"\u001b[39m\u001b[33mde lo contrario, explica los cambios que solicitas.\u001b[39m\u001b[38;5;130;01m\\n\u001b[39;00m\u001b[38;5;130;01m\\n\u001b[39;00m\u001b[33m\"\u001b[39m\n\u001b[32m     26\u001b[39m )\n\u001b[32m     28\u001b[39m \u001b[38;5;28;01mif\u001b[39;00m user_input.lower() == \u001b[33m\"\u001b[39m\u001b[33my\u001b[39m\u001b[33m\"\u001b[39m:\n\u001b[32m     29\u001b[39m     \u001b[38;5;66;03m# Si se aprueba, ejecuta la herramienta y guarda el resultado\u001b[39;00m\n\u001b[32m---> \u001b[39m\u001b[32m30\u001b[39m     tool_result = \u001b[38;5;28;43mself\u001b[39;49m\u001b[43m.\u001b[49m\u001b[43mtools_by_name\u001b[49m\u001b[43m[\u001b[49m\u001b[43mtool_call\u001b[49m\u001b[43m[\u001b[49m\u001b[33;43m\"\u001b[39;49m\u001b[33;43mname\u001b[39;49m\u001b[33;43m\"\u001b[39;49m\u001b[43m]\u001b[49m\u001b[43m]\u001b[49m\u001b[43m.\u001b[49m\u001b[43minvoke\u001b[49m\u001b[43m(\u001b[49m\u001b[43mtool_call\u001b[49m\u001b[43m[\u001b[49m\u001b[33;43m\"\u001b[39;49m\u001b[33;43margs\u001b[39;49m\u001b[33;43m\"\u001b[39;49m\u001b[43m]\u001b[49m\u001b[43m)\u001b[49m\n\u001b[32m     31\u001b[39m     outputs.append(\n\u001b[32m     32\u001b[39m         ToolMessage(\n\u001b[32m     33\u001b[39m             content=json.dumps(tool_result),\n\u001b[32m   (...)\u001b[39m\u001b[32m     36\u001b[39m         )\n\u001b[32m     37\u001b[39m     )\n\u001b[32m     38\u001b[39m \u001b[38;5;28;01melse\u001b[39;00m:\n\u001b[32m     39\u001b[39m     \u001b[38;5;66;03m# Si se rechaza, responde con la razón y continúa asistiendo\u001b[39;00m\n",
      "\u001b[36mFile \u001b[39m\u001b[32m~/anaconda3/envs/mi_entorno_311/lib/python3.11/site-packages/langchain_core/tools/base.py:513\u001b[39m, in \u001b[36mBaseTool.invoke\u001b[39m\u001b[34m(self, input, config, **kwargs)\u001b[39m\n\u001b[32m    505\u001b[39m \u001b[38;5;129m@override\u001b[39m\n\u001b[32m    506\u001b[39m \u001b[38;5;28;01mdef\u001b[39;00m\u001b[38;5;250m \u001b[39m\u001b[34minvoke\u001b[39m(\n\u001b[32m    507\u001b[39m     \u001b[38;5;28mself\u001b[39m,\n\u001b[32m   (...)\u001b[39m\u001b[32m    510\u001b[39m     **kwargs: Any,\n\u001b[32m    511\u001b[39m ) -> Any:\n\u001b[32m    512\u001b[39m     tool_input, kwargs = _prep_run_args(\u001b[38;5;28minput\u001b[39m, config, **kwargs)\n\u001b[32m--> \u001b[39m\u001b[32m513\u001b[39m     \u001b[38;5;28;01mreturn\u001b[39;00m \u001b[38;5;28;43mself\u001b[39;49m\u001b[43m.\u001b[49m\u001b[43mrun\u001b[49m\u001b[43m(\u001b[49m\u001b[43mtool_input\u001b[49m\u001b[43m,\u001b[49m\u001b[43m \u001b[49m\u001b[43m*\u001b[49m\u001b[43m*\u001b[49m\u001b[43mkwargs\u001b[49m\u001b[43m)\u001b[49m\n",
      "\u001b[36mFile \u001b[39m\u001b[32m~/anaconda3/envs/mi_entorno_311/lib/python3.11/site-packages/langchain_core/tools/base.py:774\u001b[39m, in \u001b[36mBaseTool.run\u001b[39m\u001b[34m(self, tool_input, verbose, start_color, color, callbacks, tags, metadata, run_name, run_id, config, tool_call_id, **kwargs)\u001b[39m\n\u001b[32m    772\u001b[39m \u001b[38;5;28;01mif\u001b[39;00m error_to_raise:\n\u001b[32m    773\u001b[39m     run_manager.on_tool_error(error_to_raise)\n\u001b[32m--> \u001b[39m\u001b[32m774\u001b[39m     \u001b[38;5;28;01mraise\u001b[39;00m error_to_raise\n\u001b[32m    775\u001b[39m output = _format_output(content, artifact, tool_call_id, \u001b[38;5;28mself\u001b[39m.name, status)\n\u001b[32m    776\u001b[39m run_manager.on_tool_end(output, color=color, name=\u001b[38;5;28mself\u001b[39m.name, **kwargs)\n",
      "\u001b[36mFile \u001b[39m\u001b[32m~/anaconda3/envs/mi_entorno_311/lib/python3.11/site-packages/langchain_core/tools/base.py:743\u001b[39m, in \u001b[36mBaseTool.run\u001b[39m\u001b[34m(self, tool_input, verbose, start_color, color, callbacks, tags, metadata, run_name, run_id, config, tool_call_id, **kwargs)\u001b[39m\n\u001b[32m    741\u001b[39m     \u001b[38;5;28;01mif\u001b[39;00m config_param := _get_runnable_config_param(\u001b[38;5;28mself\u001b[39m._run):\n\u001b[32m    742\u001b[39m         tool_kwargs = tool_kwargs | {config_param: config}\n\u001b[32m--> \u001b[39m\u001b[32m743\u001b[39m     response = \u001b[43mcontext\u001b[49m\u001b[43m.\u001b[49m\u001b[43mrun\u001b[49m\u001b[43m(\u001b[49m\u001b[38;5;28;43mself\u001b[39;49m\u001b[43m.\u001b[49m\u001b[43m_run\u001b[49m\u001b[43m,\u001b[49m\u001b[43m \u001b[49m\u001b[43m*\u001b[49m\u001b[43mtool_args\u001b[49m\u001b[43m,\u001b[49m\u001b[43m \u001b[49m\u001b[43m*\u001b[49m\u001b[43m*\u001b[49m\u001b[43mtool_kwargs\u001b[49m\u001b[43m)\u001b[49m\n\u001b[32m    744\u001b[39m \u001b[38;5;28;01mif\u001b[39;00m \u001b[38;5;28mself\u001b[39m.response_format == \u001b[33m\"\u001b[39m\u001b[33mcontent_and_artifact\u001b[39m\u001b[33m\"\u001b[39m:\n\u001b[32m    745\u001b[39m     \u001b[38;5;28;01mif\u001b[39;00m \u001b[38;5;129;01mnot\u001b[39;00m \u001b[38;5;28misinstance\u001b[39m(response, \u001b[38;5;28mtuple\u001b[39m) \u001b[38;5;129;01mor\u001b[39;00m \u001b[38;5;28mlen\u001b[39m(response) != \u001b[32m2\u001b[39m:\n",
      "\u001b[36mFile \u001b[39m\u001b[32m~/anaconda3/envs/mi_entorno_311/lib/python3.11/site-packages/langchain_core/tools/simple.py:105\u001b[39m, in \u001b[36mTool._run\u001b[39m\u001b[34m(self, config, run_manager, *args, **kwargs)\u001b[39m\n\u001b[32m    103\u001b[39m     \u001b[38;5;28;01mif\u001b[39;00m config_param := _get_runnable_config_param(\u001b[38;5;28mself\u001b[39m.func):\n\u001b[32m    104\u001b[39m         kwargs[config_param] = config\n\u001b[32m--> \u001b[39m\u001b[32m105\u001b[39m     \u001b[38;5;28;01mreturn\u001b[39;00m \u001b[38;5;28;43mself\u001b[39;49m\u001b[43m.\u001b[49m\u001b[43mfunc\u001b[49m\u001b[43m(\u001b[49m\u001b[43m*\u001b[49m\u001b[43margs\u001b[49m\u001b[43m,\u001b[49m\u001b[43m \u001b[49m\u001b[43m*\u001b[49m\u001b[43m*\u001b[49m\u001b[43mkwargs\u001b[49m\u001b[43m)\u001b[49m\n\u001b[32m    106\u001b[39m msg = \u001b[33m\"\u001b[39m\u001b[33mTool does not support sync invocation.\u001b[39m\u001b[33m\"\u001b[39m\n\u001b[32m    107\u001b[39m \u001b[38;5;28;01mraise\u001b[39;00m \u001b[38;5;167;01mNotImplementedError\u001b[39;00m(msg)\n",
      "\u001b[36mFile \u001b[39m\u001b[32m~/anaconda3/envs/mi_entorno_311/lib/python3.11/site-packages/langchain_core/tools/retriever.py:38\u001b[39m, in \u001b[36m_get_relevant_documents\u001b[39m\u001b[34m(query, retriever, document_prompt, document_separator, callbacks, response_format)\u001b[39m\n\u001b[32m     30\u001b[39m \u001b[38;5;28;01mdef\u001b[39;00m\u001b[38;5;250m \u001b[39m\u001b[34m_get_relevant_documents\u001b[39m(\n\u001b[32m     31\u001b[39m     query: \u001b[38;5;28mstr\u001b[39m,\n\u001b[32m     32\u001b[39m     retriever: BaseRetriever,\n\u001b[32m   (...)\u001b[39m\u001b[32m     36\u001b[39m     response_format: Literal[\u001b[33m\"\u001b[39m\u001b[33mcontent\u001b[39m\u001b[33m\"\u001b[39m, \u001b[33m\"\u001b[39m\u001b[33mcontent_and_artifact\u001b[39m\u001b[33m\"\u001b[39m] = \u001b[33m\"\u001b[39m\u001b[33mcontent\u001b[39m\u001b[33m\"\u001b[39m,\n\u001b[32m     37\u001b[39m ) -> Union[\u001b[38;5;28mstr\u001b[39m, \u001b[38;5;28mtuple\u001b[39m[\u001b[38;5;28mstr\u001b[39m, \u001b[38;5;28mlist\u001b[39m[Document]]]:\n\u001b[32m---> \u001b[39m\u001b[32m38\u001b[39m     docs = \u001b[43mretriever\u001b[49m\u001b[43m.\u001b[49m\u001b[43minvoke\u001b[49m\u001b[43m(\u001b[49m\u001b[43mquery\u001b[49m\u001b[43m,\u001b[49m\u001b[43m \u001b[49m\u001b[43mconfig\u001b[49m\u001b[43m=\u001b[49m\u001b[43m{\u001b[49m\u001b[33;43m\"\u001b[39;49m\u001b[33;43mcallbacks\u001b[39;49m\u001b[33;43m\"\u001b[39;49m\u001b[43m:\u001b[49m\u001b[43m \u001b[49m\u001b[43mcallbacks\u001b[49m\u001b[43m}\u001b[49m\u001b[43m)\u001b[49m\n\u001b[32m     39\u001b[39m     content = document_separator.join(\n\u001b[32m     40\u001b[39m         format_document(doc, document_prompt) \u001b[38;5;28;01mfor\u001b[39;00m doc \u001b[38;5;129;01min\u001b[39;00m docs\n\u001b[32m     41\u001b[39m     )\n\u001b[32m     42\u001b[39m     \u001b[38;5;28;01mif\u001b[39;00m response_format == \u001b[33m\"\u001b[39m\u001b[33mcontent_and_artifact\u001b[39m\u001b[33m\"\u001b[39m:\n",
      "\u001b[36mFile \u001b[39m\u001b[32m~/anaconda3/envs/mi_entorno_311/lib/python3.11/site-packages/langchain_core/retrievers.py:258\u001b[39m, in \u001b[36mBaseRetriever.invoke\u001b[39m\u001b[34m(self, input, config, **kwargs)\u001b[39m\n\u001b[32m    256\u001b[39m _kwargs = kwargs \u001b[38;5;28;01mif\u001b[39;00m \u001b[38;5;28mself\u001b[39m._expects_other_args \u001b[38;5;28;01melse\u001b[39;00m {}\n\u001b[32m    257\u001b[39m \u001b[38;5;28;01mif\u001b[39;00m \u001b[38;5;28mself\u001b[39m._new_arg_supported:\n\u001b[32m--> \u001b[39m\u001b[32m258\u001b[39m     result = \u001b[38;5;28;43mself\u001b[39;49m\u001b[43m.\u001b[49m\u001b[43m_get_relevant_documents\u001b[49m\u001b[43m(\u001b[49m\n\u001b[32m    259\u001b[39m \u001b[43m        \u001b[49m\u001b[38;5;28;43minput\u001b[39;49m\u001b[43m,\u001b[49m\u001b[43m \u001b[49m\u001b[43mrun_manager\u001b[49m\u001b[43m=\u001b[49m\u001b[43mrun_manager\u001b[49m\u001b[43m,\u001b[49m\u001b[43m \u001b[49m\u001b[43m*\u001b[49m\u001b[43m*\u001b[49m\u001b[43m_kwargs\u001b[49m\n\u001b[32m    260\u001b[39m \u001b[43m    \u001b[49m\u001b[43m)\u001b[49m\n\u001b[32m    261\u001b[39m \u001b[38;5;28;01melse\u001b[39;00m:\n\u001b[32m    262\u001b[39m     result = \u001b[38;5;28mself\u001b[39m._get_relevant_documents(\u001b[38;5;28minput\u001b[39m, **_kwargs)\n",
      "\u001b[36mFile \u001b[39m\u001b[32m~/anaconda3/envs/mi_entorno_311/lib/python3.11/site-packages/langchain/retrievers/multi_vector.py:78\u001b[39m, in \u001b[36mMultiVectorRetriever._get_relevant_documents\u001b[39m\u001b[34m(self, query, run_manager)\u001b[39m\n\u001b[32m     76\u001b[39m     sub_docs = [sub_doc \u001b[38;5;28;01mfor\u001b[39;00m sub_doc, _ \u001b[38;5;129;01min\u001b[39;00m sub_docs_and_similarities]\n\u001b[32m     77\u001b[39m \u001b[38;5;28;01melse\u001b[39;00m:\n\u001b[32m---> \u001b[39m\u001b[32m78\u001b[39m     sub_docs = \u001b[38;5;28;43mself\u001b[39;49m\u001b[43m.\u001b[49m\u001b[43mvectorstore\u001b[49m\u001b[43m.\u001b[49m\u001b[43msimilarity_search\u001b[49m\u001b[43m(\u001b[49m\u001b[43mquery\u001b[49m\u001b[43m,\u001b[49m\u001b[43m \u001b[49m\u001b[43m*\u001b[49m\u001b[43m*\u001b[49m\u001b[38;5;28;43mself\u001b[39;49m\u001b[43m.\u001b[49m\u001b[43msearch_kwargs\u001b[49m\u001b[43m)\u001b[49m\n\u001b[32m     80\u001b[39m \u001b[38;5;66;03m# We do this to maintain the order of the ids that are returned\u001b[39;00m\n\u001b[32m     81\u001b[39m ids = []\n",
      "\u001b[36mFile \u001b[39m\u001b[32m~/anaconda3/envs/mi_entorno_311/lib/python3.11/site-packages/langchain_community/vectorstores/faiss.py:641\u001b[39m, in \u001b[36mFAISS.similarity_search\u001b[39m\u001b[34m(self, query, k, filter, fetch_k, **kwargs)\u001b[39m\n\u001b[32m    621\u001b[39m \u001b[38;5;28;01mdef\u001b[39;00m\u001b[38;5;250m \u001b[39m\u001b[34msimilarity_search\u001b[39m(\n\u001b[32m    622\u001b[39m     \u001b[38;5;28mself\u001b[39m,\n\u001b[32m    623\u001b[39m     query: \u001b[38;5;28mstr\u001b[39m,\n\u001b[32m   (...)\u001b[39m\u001b[32m    627\u001b[39m     **kwargs: Any,\n\u001b[32m    628\u001b[39m ) -> List[Document]:\n\u001b[32m    629\u001b[39m \u001b[38;5;250m    \u001b[39m\u001b[33;03m\"\"\"Return docs most similar to query.\u001b[39;00m\n\u001b[32m    630\u001b[39m \n\u001b[32m    631\u001b[39m \u001b[33;03m    Args:\u001b[39;00m\n\u001b[32m   (...)\u001b[39m\u001b[32m    639\u001b[39m \u001b[33;03m        List of Documents most similar to the query.\u001b[39;00m\n\u001b[32m    640\u001b[39m \u001b[33;03m    \"\"\"\u001b[39;00m\n\u001b[32m--> \u001b[39m\u001b[32m641\u001b[39m     docs_and_scores = \u001b[38;5;28;43mself\u001b[39;49m\u001b[43m.\u001b[49m\u001b[43msimilarity_search_with_score\u001b[49m\u001b[43m(\u001b[49m\n\u001b[32m    642\u001b[39m \u001b[43m        \u001b[49m\u001b[43mquery\u001b[49m\u001b[43m,\u001b[49m\u001b[43m \u001b[49m\u001b[43mk\u001b[49m\u001b[43m,\u001b[49m\u001b[43m \u001b[49m\u001b[38;5;28;43mfilter\u001b[39;49m\u001b[43m=\u001b[49m\u001b[38;5;28;43mfilter\u001b[39;49m\u001b[43m,\u001b[49m\u001b[43m \u001b[49m\u001b[43mfetch_k\u001b[49m\u001b[43m=\u001b[49m\u001b[43mfetch_k\u001b[49m\u001b[43m,\u001b[49m\u001b[43m \u001b[49m\u001b[43m*\u001b[49m\u001b[43m*\u001b[49m\u001b[43mkwargs\u001b[49m\n\u001b[32m    643\u001b[39m \u001b[43m    \u001b[49m\u001b[43m)\u001b[49m\n\u001b[32m    644\u001b[39m     \u001b[38;5;28;01mreturn\u001b[39;00m [doc \u001b[38;5;28;01mfor\u001b[39;00m doc, _ \u001b[38;5;129;01min\u001b[39;00m docs_and_scores]\n",
      "\u001b[36mFile \u001b[39m\u001b[32m~/anaconda3/envs/mi_entorno_311/lib/python3.11/site-packages/langchain_community/vectorstores/faiss.py:513\u001b[39m, in \u001b[36mFAISS.similarity_search_with_score\u001b[39m\u001b[34m(self, query, k, filter, fetch_k, **kwargs)\u001b[39m\n\u001b[32m    489\u001b[39m \u001b[38;5;28;01mdef\u001b[39;00m\u001b[38;5;250m \u001b[39m\u001b[34msimilarity_search_with_score\u001b[39m(\n\u001b[32m    490\u001b[39m     \u001b[38;5;28mself\u001b[39m,\n\u001b[32m    491\u001b[39m     query: \u001b[38;5;28mstr\u001b[39m,\n\u001b[32m   (...)\u001b[39m\u001b[32m    495\u001b[39m     **kwargs: Any,\n\u001b[32m    496\u001b[39m ) -> List[Tuple[Document, \u001b[38;5;28mfloat\u001b[39m]]:\n\u001b[32m    497\u001b[39m \u001b[38;5;250m    \u001b[39m\u001b[33;03m\"\"\"Return docs most similar to query.\u001b[39;00m\n\u001b[32m    498\u001b[39m \n\u001b[32m    499\u001b[39m \u001b[33;03m    Args:\u001b[39;00m\n\u001b[32m   (...)\u001b[39m\u001b[32m    511\u001b[39m \u001b[33;03m        L2 distance in float. Lower score represents more similarity.\u001b[39;00m\n\u001b[32m    512\u001b[39m \u001b[33;03m    \"\"\"\u001b[39;00m\n\u001b[32m--> \u001b[39m\u001b[32m513\u001b[39m     embedding = \u001b[38;5;28;43mself\u001b[39;49m\u001b[43m.\u001b[49m\u001b[43m_embed_query\u001b[49m\u001b[43m(\u001b[49m\u001b[43mquery\u001b[49m\u001b[43m)\u001b[49m\n\u001b[32m    514\u001b[39m     docs = \u001b[38;5;28mself\u001b[39m.similarity_search_with_score_by_vector(\n\u001b[32m    515\u001b[39m         embedding,\n\u001b[32m    516\u001b[39m         k,\n\u001b[32m   (...)\u001b[39m\u001b[32m    519\u001b[39m         **kwargs,\n\u001b[32m    520\u001b[39m     )\n\u001b[32m    521\u001b[39m     \u001b[38;5;28;01mreturn\u001b[39;00m docs\n",
      "\u001b[36mFile \u001b[39m\u001b[32m~/anaconda3/envs/mi_entorno_311/lib/python3.11/site-packages/langchain_community/vectorstores/faiss.py:265\u001b[39m, in \u001b[36mFAISS._embed_query\u001b[39m\u001b[34m(self, text)\u001b[39m\n\u001b[32m    263\u001b[39m \u001b[38;5;28;01mdef\u001b[39;00m\u001b[38;5;250m \u001b[39m\u001b[34m_embed_query\u001b[39m(\u001b[38;5;28mself\u001b[39m, text: \u001b[38;5;28mstr\u001b[39m) -> List[\u001b[38;5;28mfloat\u001b[39m]:\n\u001b[32m    264\u001b[39m     \u001b[38;5;28;01mif\u001b[39;00m \u001b[38;5;28misinstance\u001b[39m(\u001b[38;5;28mself\u001b[39m.embedding_function, Embeddings):\n\u001b[32m--> \u001b[39m\u001b[32m265\u001b[39m         \u001b[38;5;28;01mreturn\u001b[39;00m \u001b[38;5;28;43mself\u001b[39;49m\u001b[43m.\u001b[49m\u001b[43membedding_function\u001b[49m\u001b[43m.\u001b[49m\u001b[43membed_query\u001b[49m\u001b[43m(\u001b[49m\u001b[43mtext\u001b[49m\u001b[43m)\u001b[49m\n\u001b[32m    266\u001b[39m     \u001b[38;5;28;01melse\u001b[39;00m:\n\u001b[32m    267\u001b[39m         \u001b[38;5;28;01mreturn\u001b[39;00m \u001b[38;5;28mself\u001b[39m.embedding_function(text)\n",
      "\u001b[36mFile \u001b[39m\u001b[32m~/anaconda3/envs/mi_entorno_311/lib/python3.11/site-packages/langchain_aws/embeddings/bedrock.py:262\u001b[39m, in \u001b[36mBedrockEmbeddings.embed_query\u001b[39m\u001b[34m(self, text)\u001b[39m\n\u001b[32m    260\u001b[39m     embedding = \u001b[38;5;28mself\u001b[39m._embedding_func(text, input_type=\u001b[33m\"\u001b[39m\u001b[33msearch_query\u001b[39m\u001b[33m\"\u001b[39m)\n\u001b[32m    261\u001b[39m \u001b[38;5;28;01melse\u001b[39;00m:\n\u001b[32m--> \u001b[39m\u001b[32m262\u001b[39m     embedding = \u001b[38;5;28;43mself\u001b[39;49m\u001b[43m.\u001b[49m\u001b[43m_embedding_func\u001b[49m\u001b[43m(\u001b[49m\u001b[43mtext\u001b[49m\u001b[43m)\u001b[49m\n\u001b[32m    264\u001b[39m \u001b[38;5;28;01mif\u001b[39;00m \u001b[38;5;28mself\u001b[39m.normalize:\n\u001b[32m    265\u001b[39m     \u001b[38;5;28;01mreturn\u001b[39;00m \u001b[38;5;28mself\u001b[39m._normalize_vector(embedding)\n",
      "\u001b[36mFile \u001b[39m\u001b[32m~/anaconda3/envs/mi_entorno_311/lib/python3.11/site-packages/langchain_aws/embeddings/bedrock.py:164\u001b[39m, in \u001b[36mBedrockEmbeddings._embedding_func\u001b[39m\u001b[34m(self, text, input_type)\u001b[39m\n\u001b[32m    161\u001b[39m     \u001b[38;5;28;01mreturn\u001b[39;00m response_body.get(\u001b[33m\"\u001b[39m\u001b[33membeddings\u001b[39m\u001b[33m\"\u001b[39m)[\u001b[32m0\u001b[39m]\n\u001b[32m    162\u001b[39m \u001b[38;5;28;01melse\u001b[39;00m:\n\u001b[32m    163\u001b[39m     \u001b[38;5;66;03m# includes common provider == \"amazon\"\u001b[39;00m\n\u001b[32m--> \u001b[39m\u001b[32m164\u001b[39m     response_body = \u001b[38;5;28;43mself\u001b[39;49m\u001b[43m.\u001b[49m\u001b[43m_invoke_model\u001b[49m\u001b[43m(\u001b[49m\n\u001b[32m    165\u001b[39m \u001b[43m        \u001b[49m\u001b[43minput_body\u001b[49m\u001b[43m=\u001b[49m\u001b[43m{\u001b[49m\u001b[33;43m\"\u001b[39;49m\u001b[33;43minputText\u001b[39;49m\u001b[33;43m\"\u001b[39;49m\u001b[43m:\u001b[49m\u001b[43m \u001b[49m\u001b[43mtext\u001b[49m\u001b[43m}\u001b[49m\u001b[43m,\u001b[49m\n\u001b[32m    166\u001b[39m \u001b[43m    \u001b[49m\u001b[43m)\u001b[49m\n\u001b[32m    167\u001b[39m     \u001b[38;5;28;01mreturn\u001b[39;00m response_body.get(\u001b[33m\"\u001b[39m\u001b[33membedding\u001b[39m\u001b[33m\"\u001b[39m)\n",
      "\u001b[36mFile \u001b[39m\u001b[32m~/anaconda3/envs/mi_entorno_311/lib/python3.11/site-packages/langchain_aws/embeddings/bedrock.py:206\u001b[39m, in \u001b[36mBedrockEmbeddings._invoke_model\u001b[39m\u001b[34m(self, input_body)\u001b[39m\n\u001b[32m    204\u001b[39m \u001b[38;5;28;01mexcept\u001b[39;00m \u001b[38;5;167;01mException\u001b[39;00m \u001b[38;5;28;01mas\u001b[39;00m e:\n\u001b[32m    205\u001b[39m     logger.exception(\u001b[33m\"\u001b[39m\u001b[33mError raised by inference endpoint\u001b[39m\u001b[33m\"\u001b[39m)\n\u001b[32m--> \u001b[39m\u001b[32m206\u001b[39m     \u001b[38;5;28;01mraise\u001b[39;00m e\n",
      "\u001b[36mFile \u001b[39m\u001b[32m~/anaconda3/envs/mi_entorno_311/lib/python3.11/site-packages/langchain_aws/embeddings/bedrock.py:195\u001b[39m, in \u001b[36mBedrockEmbeddings._invoke_model\u001b[39m\u001b[34m(self, input_body)\u001b[39m\n\u001b[32m    192\u001b[39m body = json.dumps(input_body)\n\u001b[32m    194\u001b[39m \u001b[38;5;28;01mtry\u001b[39;00m:\n\u001b[32m--> \u001b[39m\u001b[32m195\u001b[39m     response = \u001b[38;5;28;43mself\u001b[39;49m\u001b[43m.\u001b[49m\u001b[43mclient\u001b[49m\u001b[43m.\u001b[49m\u001b[43minvoke_model\u001b[49m\u001b[43m(\u001b[49m\n\u001b[32m    196\u001b[39m \u001b[43m        \u001b[49m\u001b[43mbody\u001b[49m\u001b[43m=\u001b[49m\u001b[43mbody\u001b[49m\u001b[43m,\u001b[49m\n\u001b[32m    197\u001b[39m \u001b[43m        \u001b[49m\u001b[43mmodelId\u001b[49m\u001b[43m=\u001b[49m\u001b[38;5;28;43mself\u001b[39;49m\u001b[43m.\u001b[49m\u001b[43mmodel_id\u001b[49m\u001b[43m,\u001b[49m\n\u001b[32m    198\u001b[39m \u001b[43m        \u001b[49m\u001b[43maccept\u001b[49m\u001b[43m=\u001b[49m\u001b[33;43m\"\u001b[39;49m\u001b[33;43mapplication/json\u001b[39;49m\u001b[33;43m\"\u001b[39;49m\u001b[43m,\u001b[49m\n\u001b[32m    199\u001b[39m \u001b[43m        \u001b[49m\u001b[43mcontentType\u001b[49m\u001b[43m=\u001b[49m\u001b[33;43m\"\u001b[39;49m\u001b[33;43mapplication/json\u001b[39;49m\u001b[33;43m\"\u001b[39;49m\u001b[43m,\u001b[49m\n\u001b[32m    200\u001b[39m \u001b[43m    \u001b[49m\u001b[43m)\u001b[49m\n\u001b[32m    202\u001b[39m     response_body = json.loads(response.get(\u001b[33m\"\u001b[39m\u001b[33mbody\u001b[39m\u001b[33m\"\u001b[39m).read())\n\u001b[32m    203\u001b[39m     \u001b[38;5;28;01mreturn\u001b[39;00m response_body\n",
      "\u001b[36mFile \u001b[39m\u001b[32m~/anaconda3/envs/mi_entorno_311/lib/python3.11/site-packages/botocore/client.py:570\u001b[39m, in \u001b[36mClientCreator._create_api_method.<locals>._api_call\u001b[39m\u001b[34m(self, *args, **kwargs)\u001b[39m\n\u001b[32m    566\u001b[39m     \u001b[38;5;28;01mraise\u001b[39;00m \u001b[38;5;167;01mTypeError\u001b[39;00m(\n\u001b[32m    567\u001b[39m         \u001b[33mf\u001b[39m\u001b[33m\"\u001b[39m\u001b[38;5;132;01m{\u001b[39;00mpy_operation_name\u001b[38;5;132;01m}\u001b[39;00m\u001b[33m() only accepts keyword arguments.\u001b[39m\u001b[33m\"\u001b[39m\n\u001b[32m    568\u001b[39m     )\n\u001b[32m    569\u001b[39m \u001b[38;5;66;03m# The \"self\" in this scope is referring to the BaseClient.\u001b[39;00m\n\u001b[32m--> \u001b[39m\u001b[32m570\u001b[39m \u001b[38;5;28;01mreturn\u001b[39;00m \u001b[38;5;28;43mself\u001b[39;49m\u001b[43m.\u001b[49m\u001b[43m_make_api_call\u001b[49m\u001b[43m(\u001b[49m\u001b[43moperation_name\u001b[49m\u001b[43m,\u001b[49m\u001b[43m \u001b[49m\u001b[43mkwargs\u001b[49m\u001b[43m)\u001b[49m\n",
      "\u001b[36mFile \u001b[39m\u001b[32m~/anaconda3/envs/mi_entorno_311/lib/python3.11/site-packages/botocore/context.py:123\u001b[39m, in \u001b[36mwith_current_context.<locals>.decorator.<locals>.wrapper\u001b[39m\u001b[34m(*args, **kwargs)\u001b[39m\n\u001b[32m    121\u001b[39m \u001b[38;5;28;01mif\u001b[39;00m hook:\n\u001b[32m    122\u001b[39m     hook()\n\u001b[32m--> \u001b[39m\u001b[32m123\u001b[39m \u001b[38;5;28;01mreturn\u001b[39;00m \u001b[43mfunc\u001b[49m\u001b[43m(\u001b[49m\u001b[43m*\u001b[49m\u001b[43margs\u001b[49m\u001b[43m,\u001b[49m\u001b[43m \u001b[49m\u001b[43m*\u001b[49m\u001b[43m*\u001b[49m\u001b[43mkwargs\u001b[49m\u001b[43m)\u001b[49m\n",
      "\u001b[36mFile \u001b[39m\u001b[32m~/anaconda3/envs/mi_entorno_311/lib/python3.11/site-packages/botocore/client.py:1031\u001b[39m, in \u001b[36mBaseClient._make_api_call\u001b[39m\u001b[34m(self, operation_name, api_params)\u001b[39m\n\u001b[32m   1027\u001b[39m     error_code = error_info.get(\u001b[33m\"\u001b[39m\u001b[33mQueryErrorCode\u001b[39m\u001b[33m\"\u001b[39m) \u001b[38;5;129;01mor\u001b[39;00m error_info.get(\n\u001b[32m   1028\u001b[39m         \u001b[33m\"\u001b[39m\u001b[33mCode\u001b[39m\u001b[33m\"\u001b[39m\n\u001b[32m   1029\u001b[39m     )\n\u001b[32m   1030\u001b[39m     error_class = \u001b[38;5;28mself\u001b[39m.exceptions.from_code(error_code)\n\u001b[32m-> \u001b[39m\u001b[32m1031\u001b[39m     \u001b[38;5;28;01mraise\u001b[39;00m error_class(parsed_response, operation_name)\n\u001b[32m   1032\u001b[39m \u001b[38;5;28;01melse\u001b[39;00m:\n\u001b[32m   1033\u001b[39m     \u001b[38;5;28;01mreturn\u001b[39;00m parsed_response\n",
      "\u001b[31mValidationException\u001b[39m: An error occurred (ValidationException) when calling the InvokeModel operation: The provided model identifier is invalid.",
      "During task with name 'tools' and id 'da40843f-1d4f-ca9f-5201-812dbc548c94'"
     ]
    }
   ],
   "source": [
    "from langchain_core.messages import HumanMessage\n",
    "\n",
    "# Configuración del hilo y usuario\n",
    "config = {\n",
    "    \"configurable\": {\n",
    "        \"thread_id\": \"10\",\n",
    "        \"user_id\": 118\n",
    "    },\n",
    "    \"recursion_limit\": 10,\n",
    "}\n",
    "\n",
    "# Mensaje de entrada del usuario\n",
    "input_message = HumanMessage(content=\"Sugiéreme un buen destino de vacaciones.\")\n",
    "\n",
    "# Ejecución del agente con flujo interactivo\n",
    "for event in agent_with_hil.stream({\"messages\": [input_message]}, config, stream_mode=\"values\"):\n",
    "    event[\"messages\"][-1].pretty_print()\n"
   ]
  },
  {
   "cell_type": "markdown",
   "id": "15640693-14e5-4f27-ad58-3a93753bf33a",
   "metadata": {},
   "source": [
    "\n",
    "\n",
    "### **Agente multimodal**\n",
    "\n",
    "Veamos un escenario en el que también podemos procesar imágenes como entrada para nuestro agente. Vamos a crear un agente capaz de analizar imágenes utilizando **Claude 3 Haiku**, el modelo multimodal más rápido de Anthropic.\n",
    "\n",
    "El flujo de trabajo es sencillo: los usuarios suben una imagen de un lugar que les gustaría visitar, y nuestro agente entra en acción. Utilizando las capacidades de visión de Claude 3 Haiku, identifica la ciudad o el monumento que aparece en la imagen. Luego, utiliza una herramienta de recuperación personalizada que contiene información detallada sobre distintas ciudades para ofrecer recomendaciones y datos relevantes sobre el destino.\n",
    "\n",
    "Vamos a reutilizar el *retriever* que ya creamos anteriormente. Solo actualizaremos el nombre y la descripción de la herramienta para asegurar que el modelo pueda usarla correctamente.\n",
    "\n",
    "Usaremos esta imagen para pedir al sistema agente que recomiende destinos.\n"
   ]
  },
  {
   "cell_type": "code",
   "execution_count": null,
   "id": "9e69ac48-38d7-4da0-8b91-cf56826bc0d3",
   "metadata": {},
   "outputs": [],
   "source": []
  },
  {
   "cell_type": "code",
   "execution_count": 32,
   "id": "0d477fa0-da8b-4089-837f-07d20153729b",
   "metadata": {},
   "outputs": [],
   "source": [
    "city_info_retriever_tool = create_retriever_tool(\n",
    "    retriever,\n",
    "    \"city_info_retriever_tool\",\n",
    "    \"Busca a través de múltiples documentos PDF que contienen detalles de ciudades para encontrar información que coincida con los intereses del usuario en diversas ciudades.\",\n",
    ")\n"
   ]
  },
  {
   "cell_type": "code",
   "execution_count": 44,
   "id": "14565ed6-296a-4b0b-a9f9-759246efc07d",
   "metadata": {},
   "outputs": [],
   "source": [
    "# Vincula la herramienta al modelo\n",
    "model_with_tools = llm.bind_tools([city_info_retriever_tool])\n",
    "\n",
    "# Crea un agente de reacción (React Agent) con la herramienta vinculada\n",
    "dream_destination_agent = create_react_agent(llm,tools=[city_info_retriever_tool,])"
   ]
  },
  {
   "cell_type": "markdown",
   "id": "b76d6980-75a7-4a0b-b35b-7d5a0b8ad97b",
   "metadata": {},
   "source": [
    "Aquí haremos una búsqueda multimodal usando nuestra herramienta dream_destination_agent. Recuerda, si recibes un error como el siguiente, asegúrate de haber solicitado acceso al modelo Titan que estamos utilizando para las incrustaciones: Esto es en caso de que veas un error como este --- > Ocurrió un error (AccessDeniedException) al llamar a la operación InvokeModel: No tienes acceso al modelo con el ID de modelo especificado."
   ]
  },
  {
   "cell_type": "code",
   "execution_count": 45,
   "id": "88895282-7007-4c89-bc6d-94791394b022",
   "metadata": {},
   "outputs": [
    {
     "ename": "ValidationException",
     "evalue": "An error occurred (ValidationException) when calling the Converse operation: This model doesn't support the image content block that you provided. Update the content block and try again.",
     "output_type": "error",
     "traceback": [
      "\u001b[31m---------------------------------------------------------------------------\u001b[39m",
      "\u001b[31mValidationException\u001b[39m                       Traceback (most recent call last)",
      "\u001b[36mCell\u001b[39m\u001b[36m \u001b[39m\u001b[32mIn[45]\u001b[39m\u001b[32m, line 16\u001b[39m\n\u001b[32m      5\u001b[39m     image_data = base64.b64encode(image_file.read()).decode(\u001b[33m\"\u001b[39m\u001b[33mutf-8\u001b[39m\u001b[33m\"\u001b[39m)\n\u001b[32m      7\u001b[39m message = HumanMessage(\n\u001b[32m      8\u001b[39m     content=[\n\u001b[32m      9\u001b[39m         {\u001b[33m\"\u001b[39m\u001b[33mtype\u001b[39m\u001b[33m\"\u001b[39m: \u001b[33m\"\u001b[39m\u001b[33mtext\u001b[39m\u001b[33m\"\u001b[39m, \u001b[33m\"\u001b[39m\u001b[33mtext\u001b[39m\u001b[33m\"\u001b[39m: \u001b[33m\"\u001b[39m\u001b[33mGive more details about the city\u001b[39m\u001b[33m\"\u001b[39m},\n\u001b[32m   (...)\u001b[39m\u001b[32m     14\u001b[39m     ],\n\u001b[32m     15\u001b[39m )\n\u001b[32m---> \u001b[39m\u001b[32m16\u001b[39m result_msg = \u001b[43mdream_destination_agent\u001b[49m\u001b[43m.\u001b[49m\u001b[43minvoke\u001b[49m\u001b[43m(\u001b[49m\u001b[43m{\u001b[49m\u001b[33;43m\"\u001b[39;49m\u001b[33;43mmessages\u001b[39;49m\u001b[33;43m\"\u001b[39;49m\u001b[43m:\u001b[49m\u001b[43m \u001b[49m\u001b[43m[\u001b[49m\u001b[43mmessage\u001b[49m\u001b[43m]\u001b[49m\u001b[43m}\u001b[49m\u001b[43m)\u001b[49m[\u001b[33m'\u001b[39m\u001b[33mmessages\u001b[39m\u001b[33m'\u001b[39m]\n\u001b[32m     17\u001b[39m result_msg[-\u001b[32m1\u001b[39m].pretty_print()\n\u001b[32m     19\u001b[39m \u001b[38;5;66;03m# - un comment if you want to see the whole sequence of calls, just be aware this will  print the base 64 encoded image string as well -- \u001b[39;00m\n\u001b[32m     20\u001b[39m \u001b[38;5;66;03m# print(result_msg)#\u001b[39;00m\n",
      "\u001b[36mFile \u001b[39m\u001b[32m~/anaconda3/envs/mi_entorno_311/lib/python3.11/site-packages/langgraph/pregel/__init__.py:2795\u001b[39m, in \u001b[36mPregel.invoke\u001b[39m\u001b[34m(self, input, config, stream_mode, output_keys, interrupt_before, interrupt_after, checkpoint_during, debug, **kwargs)\u001b[39m\n\u001b[32m   2793\u001b[39m \u001b[38;5;28;01melse\u001b[39;00m:\n\u001b[32m   2794\u001b[39m     chunks = []\n\u001b[32m-> \u001b[39m\u001b[32m2795\u001b[39m \u001b[43m\u001b[49m\u001b[38;5;28;43;01mfor\u001b[39;49;00m\u001b[43m \u001b[49m\u001b[43mchunk\u001b[49m\u001b[43m \u001b[49m\u001b[38;5;129;43;01min\u001b[39;49;00m\u001b[43m \u001b[49m\u001b[38;5;28;43mself\u001b[39;49m\u001b[43m.\u001b[49m\u001b[43mstream\u001b[49m\u001b[43m(\u001b[49m\n\u001b[32m   2796\u001b[39m \u001b[43m    \u001b[49m\u001b[38;5;28;43minput\u001b[39;49m\u001b[43m,\u001b[49m\n\u001b[32m   2797\u001b[39m \u001b[43m    \u001b[49m\u001b[43mconfig\u001b[49m\u001b[43m,\u001b[49m\n\u001b[32m   2798\u001b[39m \u001b[43m    \u001b[49m\u001b[43mstream_mode\u001b[49m\u001b[43m=\u001b[49m\u001b[43mstream_mode\u001b[49m\u001b[43m,\u001b[49m\n\u001b[32m   2799\u001b[39m \u001b[43m    \u001b[49m\u001b[43moutput_keys\u001b[49m\u001b[43m=\u001b[49m\u001b[43moutput_keys\u001b[49m\u001b[43m,\u001b[49m\n\u001b[32m   2800\u001b[39m \u001b[43m    \u001b[49m\u001b[43minterrupt_before\u001b[49m\u001b[43m=\u001b[49m\u001b[43minterrupt_before\u001b[49m\u001b[43m,\u001b[49m\n\u001b[32m   2801\u001b[39m \u001b[43m    \u001b[49m\u001b[43minterrupt_after\u001b[49m\u001b[43m=\u001b[49m\u001b[43minterrupt_after\u001b[49m\u001b[43m,\u001b[49m\n\u001b[32m   2802\u001b[39m \u001b[43m    \u001b[49m\u001b[43mcheckpoint_during\u001b[49m\u001b[43m=\u001b[49m\u001b[43mcheckpoint_during\u001b[49m\u001b[43m,\u001b[49m\n\u001b[32m   2803\u001b[39m \u001b[43m    \u001b[49m\u001b[43mdebug\u001b[49m\u001b[43m=\u001b[49m\u001b[43mdebug\u001b[49m\u001b[43m,\u001b[49m\n\u001b[32m   2804\u001b[39m \u001b[43m    \u001b[49m\u001b[43m*\u001b[49m\u001b[43m*\u001b[49m\u001b[43mkwargs\u001b[49m\u001b[43m,\u001b[49m\n\u001b[32m   2805\u001b[39m \u001b[43m\u001b[49m\u001b[43m)\u001b[49m\u001b[43m:\u001b[49m\n\u001b[32m   2806\u001b[39m \u001b[43m    \u001b[49m\u001b[38;5;28;43;01mif\u001b[39;49;00m\u001b[43m \u001b[49m\u001b[43mstream_mode\u001b[49m\u001b[43m \u001b[49m\u001b[43m==\u001b[49m\u001b[43m \u001b[49m\u001b[33;43m\"\u001b[39;49m\u001b[33;43mvalues\u001b[39;49m\u001b[33;43m\"\u001b[39;49m\u001b[43m:\u001b[49m\n\u001b[32m   2807\u001b[39m \u001b[43m        \u001b[49m\u001b[43mlatest\u001b[49m\u001b[43m \u001b[49m\u001b[43m=\u001b[49m\u001b[43m \u001b[49m\u001b[43mchunk\u001b[49m\n",
      "\u001b[36mFile \u001b[39m\u001b[32m~/anaconda3/envs/mi_entorno_311/lib/python3.11/site-packages/langgraph/pregel/__init__.py:2433\u001b[39m, in \u001b[36mPregel.stream\u001b[39m\u001b[34m(self, input, config, stream_mode, output_keys, interrupt_before, interrupt_after, checkpoint_during, debug, subgraphs)\u001b[39m\n\u001b[32m   2427\u001b[39m     \u001b[38;5;66;03m# Similarly to Bulk Synchronous Parallel / Pregel model\u001b[39;00m\n\u001b[32m   2428\u001b[39m     \u001b[38;5;66;03m# computation proceeds in steps, while there are channel updates.\u001b[39;00m\n\u001b[32m   2429\u001b[39m     \u001b[38;5;66;03m# Channel updates from step N are only visible in step N+1\u001b[39;00m\n\u001b[32m   2430\u001b[39m     \u001b[38;5;66;03m# channels are guaranteed to be immutable for the duration of the step,\u001b[39;00m\n\u001b[32m   2431\u001b[39m     \u001b[38;5;66;03m# with channel updates applied only at the transition between steps.\u001b[39;00m\n\u001b[32m   2432\u001b[39m     \u001b[38;5;28;01mwhile\u001b[39;00m loop.tick(input_keys=\u001b[38;5;28mself\u001b[39m.input_channels):\n\u001b[32m-> \u001b[39m\u001b[32m2433\u001b[39m \u001b[43m        \u001b[49m\u001b[38;5;28;43;01mfor\u001b[39;49;00m\u001b[43m \u001b[49m\u001b[43m_\u001b[49m\u001b[43m \u001b[49m\u001b[38;5;129;43;01min\u001b[39;49;00m\u001b[43m \u001b[49m\u001b[43mrunner\u001b[49m\u001b[43m.\u001b[49m\u001b[43mtick\u001b[49m\u001b[43m(\u001b[49m\n\u001b[32m   2434\u001b[39m \u001b[43m            \u001b[49m\u001b[43mloop\u001b[49m\u001b[43m.\u001b[49m\u001b[43mtasks\u001b[49m\u001b[43m.\u001b[49m\u001b[43mvalues\u001b[49m\u001b[43m(\u001b[49m\u001b[43m)\u001b[49m\u001b[43m,\u001b[49m\n\u001b[32m   2435\u001b[39m \u001b[43m            \u001b[49m\u001b[43mtimeout\u001b[49m\u001b[43m=\u001b[49m\u001b[38;5;28;43mself\u001b[39;49m\u001b[43m.\u001b[49m\u001b[43mstep_timeout\u001b[49m\u001b[43m,\u001b[49m\n\u001b[32m   2436\u001b[39m \u001b[43m            \u001b[49m\u001b[43mretry_policy\u001b[49m\u001b[43m=\u001b[49m\u001b[38;5;28;43mself\u001b[39;49m\u001b[43m.\u001b[49m\u001b[43mretry_policy\u001b[49m\u001b[43m,\u001b[49m\n\u001b[32m   2437\u001b[39m \u001b[43m            \u001b[49m\u001b[43mget_waiter\u001b[49m\u001b[43m=\u001b[49m\u001b[43mget_waiter\u001b[49m\u001b[43m,\u001b[49m\n\u001b[32m   2438\u001b[39m \u001b[43m        \u001b[49m\u001b[43m)\u001b[49m\u001b[43m:\u001b[49m\n\u001b[32m   2439\u001b[39m \u001b[43m            \u001b[49m\u001b[38;5;66;43;03m# emit output\u001b[39;49;00m\n\u001b[32m   2440\u001b[39m \u001b[43m            \u001b[49m\u001b[38;5;28;43;01myield from\u001b[39;49;00m\u001b[43m \u001b[49m\u001b[43moutput\u001b[49m\u001b[43m(\u001b[49m\u001b[43m)\u001b[49m\n\u001b[32m   2441\u001b[39m \u001b[38;5;66;03m# emit output\u001b[39;00m\n",
      "\u001b[36mFile \u001b[39m\u001b[32m~/anaconda3/envs/mi_entorno_311/lib/python3.11/site-packages/langgraph/prebuilt/chat_agent_executor.py:745\u001b[39m, in \u001b[36mcreate_react_agent.<locals>.call_model\u001b[39m\u001b[34m(state, config)\u001b[39m\n\u001b[32m    743\u001b[39m \u001b[38;5;28;01mdef\u001b[39;00m\u001b[38;5;250m \u001b[39m\u001b[34mcall_model\u001b[39m(state: StateSchema, config: RunnableConfig) -> StateSchema:\n\u001b[32m    744\u001b[39m     state = _get_model_input_state(state)\n\u001b[32m--> \u001b[39m\u001b[32m745\u001b[39m     response = cast(AIMessage, \u001b[43mmodel_runnable\u001b[49m\u001b[43m.\u001b[49m\u001b[43minvoke\u001b[49m\u001b[43m(\u001b[49m\u001b[43mstate\u001b[49m\u001b[43m,\u001b[49m\u001b[43m \u001b[49m\u001b[43mconfig\u001b[49m\u001b[43m)\u001b[49m)\n\u001b[32m    746\u001b[39m     \u001b[38;5;66;03m# add agent name to the AIMessage\u001b[39;00m\n\u001b[32m    747\u001b[39m     response.name = name\n",
      "\u001b[36mFile \u001b[39m\u001b[32m~/anaconda3/envs/mi_entorno_311/lib/python3.11/site-packages/langchain_core/runnables/base.py:3034\u001b[39m, in \u001b[36mRunnableSequence.invoke\u001b[39m\u001b[34m(self, input, config, **kwargs)\u001b[39m\n\u001b[32m   3032\u001b[39m                 \u001b[38;5;28minput\u001b[39m = context.run(step.invoke, \u001b[38;5;28minput\u001b[39m, config, **kwargs)\n\u001b[32m   3033\u001b[39m             \u001b[38;5;28;01melse\u001b[39;00m:\n\u001b[32m-> \u001b[39m\u001b[32m3034\u001b[39m                 \u001b[38;5;28minput\u001b[39m = context.run(step.invoke, \u001b[38;5;28minput\u001b[39m, config)\n\u001b[32m   3035\u001b[39m \u001b[38;5;66;03m# finish the root run\u001b[39;00m\n\u001b[32m   3036\u001b[39m \u001b[38;5;28;01mexcept\u001b[39;00m \u001b[38;5;167;01mBaseException\u001b[39;00m \u001b[38;5;28;01mas\u001b[39;00m e:\n",
      "\u001b[36mFile \u001b[39m\u001b[32m~/anaconda3/envs/mi_entorno_311/lib/python3.11/site-packages/langchain_core/runnables/base.py:5416\u001b[39m, in \u001b[36mRunnableBindingBase.invoke\u001b[39m\u001b[34m(self, input, config, **kwargs)\u001b[39m\n\u001b[32m   5409\u001b[39m \u001b[38;5;129m@override\u001b[39m\n\u001b[32m   5410\u001b[39m \u001b[38;5;28;01mdef\u001b[39;00m\u001b[38;5;250m \u001b[39m\u001b[34minvoke\u001b[39m(\n\u001b[32m   5411\u001b[39m     \u001b[38;5;28mself\u001b[39m,\n\u001b[32m   (...)\u001b[39m\u001b[32m   5414\u001b[39m     **kwargs: Optional[Any],\n\u001b[32m   5415\u001b[39m ) -> Output:\n\u001b[32m-> \u001b[39m\u001b[32m5416\u001b[39m     \u001b[38;5;28;01mreturn\u001b[39;00m \u001b[38;5;28;43mself\u001b[39;49m\u001b[43m.\u001b[49m\u001b[43mbound\u001b[49m\u001b[43m.\u001b[49m\u001b[43minvoke\u001b[49m\u001b[43m(\u001b[49m\n\u001b[32m   5417\u001b[39m \u001b[43m        \u001b[49m\u001b[38;5;28;43minput\u001b[39;49m\u001b[43m,\u001b[49m\n\u001b[32m   5418\u001b[39m \u001b[43m        \u001b[49m\u001b[38;5;28;43mself\u001b[39;49m\u001b[43m.\u001b[49m\u001b[43m_merge_configs\u001b[49m\u001b[43m(\u001b[49m\u001b[43mconfig\u001b[49m\u001b[43m)\u001b[49m\u001b[43m,\u001b[49m\n\u001b[32m   5419\u001b[39m \u001b[43m        \u001b[49m\u001b[43m*\u001b[49m\u001b[43m*\u001b[49m\u001b[43m{\u001b[49m\u001b[43m*\u001b[49m\u001b[43m*\u001b[49m\u001b[38;5;28;43mself\u001b[39;49m\u001b[43m.\u001b[49m\u001b[43mkwargs\u001b[49m\u001b[43m,\u001b[49m\u001b[43m \u001b[49m\u001b[43m*\u001b[49m\u001b[43m*\u001b[49m\u001b[43mkwargs\u001b[49m\u001b[43m}\u001b[49m\u001b[43m,\u001b[49m\n\u001b[32m   5420\u001b[39m \u001b[43m    \u001b[49m\u001b[43m)\u001b[49m\n",
      "\u001b[36mFile \u001b[39m\u001b[32m~/anaconda3/envs/mi_entorno_311/lib/python3.11/site-packages/langchain_core/language_models/chat_models.py:369\u001b[39m, in \u001b[36mBaseChatModel.invoke\u001b[39m\u001b[34m(self, input, config, stop, **kwargs)\u001b[39m\n\u001b[32m    357\u001b[39m \u001b[38;5;129m@override\u001b[39m\n\u001b[32m    358\u001b[39m \u001b[38;5;28;01mdef\u001b[39;00m\u001b[38;5;250m \u001b[39m\u001b[34minvoke\u001b[39m(\n\u001b[32m    359\u001b[39m     \u001b[38;5;28mself\u001b[39m,\n\u001b[32m   (...)\u001b[39m\u001b[32m    364\u001b[39m     **kwargs: Any,\n\u001b[32m    365\u001b[39m ) -> BaseMessage:\n\u001b[32m    366\u001b[39m     config = ensure_config(config)\n\u001b[32m    367\u001b[39m     \u001b[38;5;28;01mreturn\u001b[39;00m cast(\n\u001b[32m    368\u001b[39m         \u001b[33m\"\u001b[39m\u001b[33mChatGeneration\u001b[39m\u001b[33m\"\u001b[39m,\n\u001b[32m--> \u001b[39m\u001b[32m369\u001b[39m         \u001b[38;5;28;43mself\u001b[39;49m\u001b[43m.\u001b[49m\u001b[43mgenerate_prompt\u001b[49m\u001b[43m(\u001b[49m\n\u001b[32m    370\u001b[39m \u001b[43m            \u001b[49m\u001b[43m[\u001b[49m\u001b[38;5;28;43mself\u001b[39;49m\u001b[43m.\u001b[49m\u001b[43m_convert_input\u001b[49m\u001b[43m(\u001b[49m\u001b[38;5;28;43minput\u001b[39;49m\u001b[43m)\u001b[49m\u001b[43m]\u001b[49m\u001b[43m,\u001b[49m\n\u001b[32m    371\u001b[39m \u001b[43m            \u001b[49m\u001b[43mstop\u001b[49m\u001b[43m=\u001b[49m\u001b[43mstop\u001b[49m\u001b[43m,\u001b[49m\n\u001b[32m    372\u001b[39m \u001b[43m            \u001b[49m\u001b[43mcallbacks\u001b[49m\u001b[43m=\u001b[49m\u001b[43mconfig\u001b[49m\u001b[43m.\u001b[49m\u001b[43mget\u001b[49m\u001b[43m(\u001b[49m\u001b[33;43m\"\u001b[39;49m\u001b[33;43mcallbacks\u001b[39;49m\u001b[33;43m\"\u001b[39;49m\u001b[43m)\u001b[49m\u001b[43m,\u001b[49m\n\u001b[32m    373\u001b[39m \u001b[43m            \u001b[49m\u001b[43mtags\u001b[49m\u001b[43m=\u001b[49m\u001b[43mconfig\u001b[49m\u001b[43m.\u001b[49m\u001b[43mget\u001b[49m\u001b[43m(\u001b[49m\u001b[33;43m\"\u001b[39;49m\u001b[33;43mtags\u001b[39;49m\u001b[33;43m\"\u001b[39;49m\u001b[43m)\u001b[49m\u001b[43m,\u001b[49m\n\u001b[32m    374\u001b[39m \u001b[43m            \u001b[49m\u001b[43mmetadata\u001b[49m\u001b[43m=\u001b[49m\u001b[43mconfig\u001b[49m\u001b[43m.\u001b[49m\u001b[43mget\u001b[49m\u001b[43m(\u001b[49m\u001b[33;43m\"\u001b[39;49m\u001b[33;43mmetadata\u001b[39;49m\u001b[33;43m\"\u001b[39;49m\u001b[43m)\u001b[49m\u001b[43m,\u001b[49m\n\u001b[32m    375\u001b[39m \u001b[43m            \u001b[49m\u001b[43mrun_name\u001b[49m\u001b[43m=\u001b[49m\u001b[43mconfig\u001b[49m\u001b[43m.\u001b[49m\u001b[43mget\u001b[49m\u001b[43m(\u001b[49m\u001b[33;43m\"\u001b[39;49m\u001b[33;43mrun_name\u001b[39;49m\u001b[33;43m\"\u001b[39;49m\u001b[43m)\u001b[49m\u001b[43m,\u001b[49m\n\u001b[32m    376\u001b[39m \u001b[43m            \u001b[49m\u001b[43mrun_id\u001b[49m\u001b[43m=\u001b[49m\u001b[43mconfig\u001b[49m\u001b[43m.\u001b[49m\u001b[43mpop\u001b[49m\u001b[43m(\u001b[49m\u001b[33;43m\"\u001b[39;49m\u001b[33;43mrun_id\u001b[39;49m\u001b[33;43m\"\u001b[39;49m\u001b[43m,\u001b[49m\u001b[43m \u001b[49m\u001b[38;5;28;43;01mNone\u001b[39;49;00m\u001b[43m)\u001b[49m\u001b[43m,\u001b[49m\n\u001b[32m    377\u001b[39m \u001b[43m            \u001b[49m\u001b[43m*\u001b[49m\u001b[43m*\u001b[49m\u001b[43mkwargs\u001b[49m\u001b[43m,\u001b[49m\n\u001b[32m    378\u001b[39m \u001b[43m        \u001b[49m\u001b[43m)\u001b[49m.generations[\u001b[32m0\u001b[39m][\u001b[32m0\u001b[39m],\n\u001b[32m    379\u001b[39m     ).message\n",
      "\u001b[36mFile \u001b[39m\u001b[32m~/anaconda3/envs/mi_entorno_311/lib/python3.11/site-packages/langchain_core/language_models/chat_models.py:946\u001b[39m, in \u001b[36mBaseChatModel.generate_prompt\u001b[39m\u001b[34m(self, prompts, stop, callbacks, **kwargs)\u001b[39m\n\u001b[32m    937\u001b[39m \u001b[38;5;129m@override\u001b[39m\n\u001b[32m    938\u001b[39m \u001b[38;5;28;01mdef\u001b[39;00m\u001b[38;5;250m \u001b[39m\u001b[34mgenerate_prompt\u001b[39m(\n\u001b[32m    939\u001b[39m     \u001b[38;5;28mself\u001b[39m,\n\u001b[32m   (...)\u001b[39m\u001b[32m    943\u001b[39m     **kwargs: Any,\n\u001b[32m    944\u001b[39m ) -> LLMResult:\n\u001b[32m    945\u001b[39m     prompt_messages = [p.to_messages() \u001b[38;5;28;01mfor\u001b[39;00m p \u001b[38;5;129;01min\u001b[39;00m prompts]\n\u001b[32m--> \u001b[39m\u001b[32m946\u001b[39m     \u001b[38;5;28;01mreturn\u001b[39;00m \u001b[38;5;28;43mself\u001b[39;49m\u001b[43m.\u001b[49m\u001b[43mgenerate\u001b[49m\u001b[43m(\u001b[49m\u001b[43mprompt_messages\u001b[49m\u001b[43m,\u001b[49m\u001b[43m \u001b[49m\u001b[43mstop\u001b[49m\u001b[43m=\u001b[49m\u001b[43mstop\u001b[49m\u001b[43m,\u001b[49m\u001b[43m \u001b[49m\u001b[43mcallbacks\u001b[49m\u001b[43m=\u001b[49m\u001b[43mcallbacks\u001b[49m\u001b[43m,\u001b[49m\u001b[43m \u001b[49m\u001b[43m*\u001b[49m\u001b[43m*\u001b[49m\u001b[43mkwargs\u001b[49m\u001b[43m)\u001b[49m\n",
      "\u001b[36mFile \u001b[39m\u001b[32m~/anaconda3/envs/mi_entorno_311/lib/python3.11/site-packages/langchain_core/language_models/chat_models.py:765\u001b[39m, in \u001b[36mBaseChatModel.generate\u001b[39m\u001b[34m(self, messages, stop, callbacks, tags, metadata, run_name, run_id, **kwargs)\u001b[39m\n\u001b[32m    762\u001b[39m \u001b[38;5;28;01mfor\u001b[39;00m i, m \u001b[38;5;129;01min\u001b[39;00m \u001b[38;5;28menumerate\u001b[39m(input_messages):\n\u001b[32m    763\u001b[39m     \u001b[38;5;28;01mtry\u001b[39;00m:\n\u001b[32m    764\u001b[39m         results.append(\n\u001b[32m--> \u001b[39m\u001b[32m765\u001b[39m             \u001b[38;5;28;43mself\u001b[39;49m\u001b[43m.\u001b[49m\u001b[43m_generate_with_cache\u001b[49m\u001b[43m(\u001b[49m\n\u001b[32m    766\u001b[39m \u001b[43m                \u001b[49m\u001b[43mm\u001b[49m\u001b[43m,\u001b[49m\n\u001b[32m    767\u001b[39m \u001b[43m                \u001b[49m\u001b[43mstop\u001b[49m\u001b[43m=\u001b[49m\u001b[43mstop\u001b[49m\u001b[43m,\u001b[49m\n\u001b[32m    768\u001b[39m \u001b[43m                \u001b[49m\u001b[43mrun_manager\u001b[49m\u001b[43m=\u001b[49m\u001b[43mrun_managers\u001b[49m\u001b[43m[\u001b[49m\u001b[43mi\u001b[49m\u001b[43m]\u001b[49m\u001b[43m \u001b[49m\u001b[38;5;28;43;01mif\u001b[39;49;00m\u001b[43m \u001b[49m\u001b[43mrun_managers\u001b[49m\u001b[43m \u001b[49m\u001b[38;5;28;43;01melse\u001b[39;49;00m\u001b[43m \u001b[49m\u001b[38;5;28;43;01mNone\u001b[39;49;00m\u001b[43m,\u001b[49m\n\u001b[32m    769\u001b[39m \u001b[43m                \u001b[49m\u001b[43m*\u001b[49m\u001b[43m*\u001b[49m\u001b[43mkwargs\u001b[49m\u001b[43m,\u001b[49m\n\u001b[32m    770\u001b[39m \u001b[43m            \u001b[49m\u001b[43m)\u001b[49m\n\u001b[32m    771\u001b[39m         )\n\u001b[32m    772\u001b[39m     \u001b[38;5;28;01mexcept\u001b[39;00m \u001b[38;5;167;01mBaseException\u001b[39;00m \u001b[38;5;28;01mas\u001b[39;00m e:\n\u001b[32m    773\u001b[39m         \u001b[38;5;28;01mif\u001b[39;00m run_managers:\n",
      "\u001b[36mFile \u001b[39m\u001b[32m~/anaconda3/envs/mi_entorno_311/lib/python3.11/site-packages/langchain_core/language_models/chat_models.py:1011\u001b[39m, in \u001b[36mBaseChatModel._generate_with_cache\u001b[39m\u001b[34m(self, messages, stop, run_manager, **kwargs)\u001b[39m\n\u001b[32m   1009\u001b[39m     result = generate_from_stream(\u001b[38;5;28miter\u001b[39m(chunks))\n\u001b[32m   1010\u001b[39m \u001b[38;5;28;01melif\u001b[39;00m inspect.signature(\u001b[38;5;28mself\u001b[39m._generate).parameters.get(\u001b[33m\"\u001b[39m\u001b[33mrun_manager\u001b[39m\u001b[33m\"\u001b[39m):\n\u001b[32m-> \u001b[39m\u001b[32m1011\u001b[39m     result = \u001b[38;5;28;43mself\u001b[39;49m\u001b[43m.\u001b[49m\u001b[43m_generate\u001b[49m\u001b[43m(\u001b[49m\n\u001b[32m   1012\u001b[39m \u001b[43m        \u001b[49m\u001b[43mmessages\u001b[49m\u001b[43m,\u001b[49m\u001b[43m \u001b[49m\u001b[43mstop\u001b[49m\u001b[43m=\u001b[49m\u001b[43mstop\u001b[49m\u001b[43m,\u001b[49m\u001b[43m \u001b[49m\u001b[43mrun_manager\u001b[49m\u001b[43m=\u001b[49m\u001b[43mrun_manager\u001b[49m\u001b[43m,\u001b[49m\u001b[43m \u001b[49m\u001b[43m*\u001b[49m\u001b[43m*\u001b[49m\u001b[43mkwargs\u001b[49m\n\u001b[32m   1013\u001b[39m \u001b[43m    \u001b[49m\u001b[43m)\u001b[49m\n\u001b[32m   1014\u001b[39m \u001b[38;5;28;01melse\u001b[39;00m:\n\u001b[32m   1015\u001b[39m     result = \u001b[38;5;28mself\u001b[39m._generate(messages, stop=stop, **kwargs)\n",
      "\u001b[36mFile \u001b[39m\u001b[32m~/anaconda3/envs/mi_entorno_311/lib/python3.11/site-packages/langchain_aws/chat_models/bedrock_converse.py:650\u001b[39m, in \u001b[36mChatBedrockConverse._generate\u001b[39m\u001b[34m(self, messages, stop, run_manager, **kwargs)\u001b[39m\n\u001b[32m    648\u001b[39m logger.debug(\u001b[33mf\u001b[39m\u001b[33m\"\u001b[39m\u001b[33mInput params: \u001b[39m\u001b[38;5;132;01m{\u001b[39;00mparams\u001b[38;5;132;01m}\u001b[39;00m\u001b[33m\"\u001b[39m)\n\u001b[32m    649\u001b[39m logger.info(\u001b[33m\"\u001b[39m\u001b[33mUsing Bedrock Converse API to generate response\u001b[39m\u001b[33m\"\u001b[39m)\n\u001b[32m--> \u001b[39m\u001b[32m650\u001b[39m response = \u001b[38;5;28;43mself\u001b[39;49m\u001b[43m.\u001b[49m\u001b[43mclient\u001b[49m\u001b[43m.\u001b[49m\u001b[43mconverse\u001b[49m\u001b[43m(\u001b[49m\n\u001b[32m    651\u001b[39m \u001b[43m    \u001b[49m\u001b[43mmessages\u001b[49m\u001b[43m=\u001b[49m\u001b[43mbedrock_messages\u001b[49m\u001b[43m,\u001b[49m\u001b[43m \u001b[49m\u001b[43msystem\u001b[49m\u001b[43m=\u001b[49m\u001b[43msystem\u001b[49m\u001b[43m,\u001b[49m\u001b[43m \u001b[49m\u001b[43m*\u001b[49m\u001b[43m*\u001b[49m\u001b[43mparams\u001b[49m\n\u001b[32m    652\u001b[39m \u001b[43m\u001b[49m\u001b[43m)\u001b[49m\n\u001b[32m    653\u001b[39m logger.debug(\u001b[33mf\u001b[39m\u001b[33m\"\u001b[39m\u001b[33mResponse from Bedrock: \u001b[39m\u001b[38;5;132;01m{\u001b[39;00mresponse\u001b[38;5;132;01m}\u001b[39;00m\u001b[33m\"\u001b[39m)\n\u001b[32m    654\u001b[39m response_message = _parse_response(response)\n",
      "\u001b[36mFile \u001b[39m\u001b[32m~/anaconda3/envs/mi_entorno_311/lib/python3.11/site-packages/botocore/client.py:570\u001b[39m, in \u001b[36mClientCreator._create_api_method.<locals>._api_call\u001b[39m\u001b[34m(self, *args, **kwargs)\u001b[39m\n\u001b[32m    566\u001b[39m     \u001b[38;5;28;01mraise\u001b[39;00m \u001b[38;5;167;01mTypeError\u001b[39;00m(\n\u001b[32m    567\u001b[39m         \u001b[33mf\u001b[39m\u001b[33m\"\u001b[39m\u001b[38;5;132;01m{\u001b[39;00mpy_operation_name\u001b[38;5;132;01m}\u001b[39;00m\u001b[33m() only accepts keyword arguments.\u001b[39m\u001b[33m\"\u001b[39m\n\u001b[32m    568\u001b[39m     )\n\u001b[32m    569\u001b[39m \u001b[38;5;66;03m# The \"self\" in this scope is referring to the BaseClient.\u001b[39;00m\n\u001b[32m--> \u001b[39m\u001b[32m570\u001b[39m \u001b[38;5;28;01mreturn\u001b[39;00m \u001b[38;5;28;43mself\u001b[39;49m\u001b[43m.\u001b[49m\u001b[43m_make_api_call\u001b[49m\u001b[43m(\u001b[49m\u001b[43moperation_name\u001b[49m\u001b[43m,\u001b[49m\u001b[43m \u001b[49m\u001b[43mkwargs\u001b[49m\u001b[43m)\u001b[49m\n",
      "\u001b[36mFile \u001b[39m\u001b[32m~/anaconda3/envs/mi_entorno_311/lib/python3.11/site-packages/botocore/context.py:123\u001b[39m, in \u001b[36mwith_current_context.<locals>.decorator.<locals>.wrapper\u001b[39m\u001b[34m(*args, **kwargs)\u001b[39m\n\u001b[32m    121\u001b[39m \u001b[38;5;28;01mif\u001b[39;00m hook:\n\u001b[32m    122\u001b[39m     hook()\n\u001b[32m--> \u001b[39m\u001b[32m123\u001b[39m \u001b[38;5;28;01mreturn\u001b[39;00m \u001b[43mfunc\u001b[49m\u001b[43m(\u001b[49m\u001b[43m*\u001b[49m\u001b[43margs\u001b[49m\u001b[43m,\u001b[49m\u001b[43m \u001b[49m\u001b[43m*\u001b[49m\u001b[43m*\u001b[49m\u001b[43mkwargs\u001b[49m\u001b[43m)\u001b[49m\n",
      "\u001b[36mFile \u001b[39m\u001b[32m~/anaconda3/envs/mi_entorno_311/lib/python3.11/site-packages/botocore/client.py:1031\u001b[39m, in \u001b[36mBaseClient._make_api_call\u001b[39m\u001b[34m(self, operation_name, api_params)\u001b[39m\n\u001b[32m   1027\u001b[39m     error_code = error_info.get(\u001b[33m\"\u001b[39m\u001b[33mQueryErrorCode\u001b[39m\u001b[33m\"\u001b[39m) \u001b[38;5;129;01mor\u001b[39;00m error_info.get(\n\u001b[32m   1028\u001b[39m         \u001b[33m\"\u001b[39m\u001b[33mCode\u001b[39m\u001b[33m\"\u001b[39m\n\u001b[32m   1029\u001b[39m     )\n\u001b[32m   1030\u001b[39m     error_class = \u001b[38;5;28mself\u001b[39m.exceptions.from_code(error_code)\n\u001b[32m-> \u001b[39m\u001b[32m1031\u001b[39m     \u001b[38;5;28;01mraise\u001b[39;00m error_class(parsed_response, operation_name)\n\u001b[32m   1032\u001b[39m \u001b[38;5;28;01melse\u001b[39;00m:\n\u001b[32m   1033\u001b[39m     \u001b[38;5;28;01mreturn\u001b[39;00m parsed_response\n",
      "\u001b[31mValidationException\u001b[39m: An error occurred (ValidationException) when calling the Converse operation: This model doesn't support the image content block that you provided. Update the content block and try again.",
      "During task with name 'agent' and id 'f63cf72c-eaae-9d05-ce92-07bf7aded445'"
     ]
    }
   ],
   "source": [
    "import base64\n",
    "\n",
    "image_url = \"images/amsterdam.jpeg\"\n",
    "with open(image_url, 'rb') as image_file:\n",
    "    image_data = base64.b64encode(image_file.read()).decode(\"utf-8\")\n",
    "    \n",
    "message = HumanMessage(\n",
    "    content=[\n",
    "        {\"type\": \"text\", \"text\": \"Give more details about the city\"},\n",
    "        {\n",
    "            \"type\": \"image_url\",\n",
    "            \"image_url\": {\"url\": f\"data:image/jpeg;base64,{image_data}\"},\n",
    "        },\n",
    "    ],\n",
    ")\n",
    "result_msg = dream_destination_agent.invoke({\"messages\": [message]})['messages']\n",
    "result_msg[-1].pretty_print()\n",
    "\n",
    "# - un comment if you want to see the whole sequence of calls, just be aware this will  print the base 64 encoded image string as well -- \n",
    "# print(result_msg)#\n"
   ]
  },
  {
   "cell_type": "markdown",
   "id": "011e831e-0eae-41c9-85c8-9bb9c3eea55a",
   "metadata": {},
   "source": [
    "Let us see what our Vector store returned from this Image\n"
   ]
  },
  {
   "cell_type": "code",
   "execution_count": 31,
   "id": "8b29da7a-5a9b-4593-a0a4-bbcb37110b00",
   "metadata": {},
   "outputs": [
    {
     "ename": "NameError",
     "evalue": "name 'result_msg' is not defined",
     "output_type": "error",
     "traceback": [
      "\u001b[31m---------------------------------------------------------------------------\u001b[39m",
      "\u001b[31mNameError\u001b[39m                                 Traceback (most recent call last)",
      "\u001b[36mCell\u001b[39m\u001b[36m \u001b[39m\u001b[32mIn[31]\u001b[39m\u001b[32m, line 1\u001b[39m\n\u001b[32m----> \u001b[39m\u001b[32m1\u001b[39m \u001b[38;5;28;01mfor\u001b[39;00m i \u001b[38;5;129;01min\u001b[39;00m \u001b[43mresult_msg\u001b[49m:\n\u001b[32m      2\u001b[39m     \u001b[38;5;28;01mif\u001b[39;00m \u001b[38;5;28mtype\u001b[39m(i) == ToolMessage:\n\u001b[32m      3\u001b[39m         \u001b[38;5;28mprint\u001b[39m(i.content)\n",
      "\u001b[31mNameError\u001b[39m: name 'result_msg' is not defined"
     ]
    }
   ],
   "source": [
    "for i in result_msg:\n",
    "    if type(i) == ToolMessage:\n",
    "        print(i.content)\n",
    "        break"
   ]
  },
  {
   "cell_type": "code",
   "execution_count": null,
   "id": "5bdb6f2d-ede9-4e98-a998-443cd4d2499a",
   "metadata": {},
   "outputs": [],
   "source": []
  }
 ],
 "metadata": {
  "kernelspec": {
   "display_name": "Python (mi_entorno_311)",
   "language": "python",
   "name": "mi_entorno_311"
  },
  "language_info": {
   "codemirror_mode": {
    "name": "ipython",
    "version": 3
   },
   "file_extension": ".py",
   "mimetype": "text/x-python",
   "name": "python",
   "nbconvert_exporter": "python",
   "pygments_lexer": "ipython3",
   "version": "3.11.12"
  }
 },
 "nbformat": 4,
 "nbformat_minor": 5
}
